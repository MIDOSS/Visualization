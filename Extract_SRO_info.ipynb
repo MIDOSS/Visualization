{
 "cells": [
  {
   "cell_type": "markdown",
   "metadata": {},
   "source": [
    "Based on Rachael's Notebook, prepare a yaml file with directionaries of SRO values for different Oil Types"
   ]
  },
  {
   "cell_type": "code",
   "execution_count": 1,
   "metadata": {},
   "outputs": [],
   "source": [
    "import pandas as pd\n",
    "from pathlib import Path\n",
    "import yaml"
   ]
  },
  {
   "cell_type": "code",
   "execution_count": 2,
   "metadata": {},
   "outputs": [],
   "source": [
    "oil_run = {'bunker': 'bunker',\n",
    "           'other': 'bunker',\n",
    "           'akns': 'akns',\n",
    "           'diesel': 'diesel',\n",
    "           'gas': 'diesel',\n",
    "           'jet': 'diesel',\n",
    "           'dilbit': 'dilbit',\n",
    "           }\n",
    "oils = ['bunker', 'akns', 'diesel', 'dilbit']\n",
    "\n",
    "variables = ['MEvaporated', 'MDispersed', 'MDissolved',\n",
    "                 'MBio','MassOil','VolOilBeached',\n",
    "                 'Density','VWaterContent','MWaterContent']"
   ]
  },
  {
   "cell_type": "code",
   "execution_count": 12,
   "metadata": {},
   "outputs": [
    {
     "name": "stdout",
     "output_type": "stream",
     "text": [
      "100\n",
      "200\n",
      "300\n",
      "400\n",
      "500\n",
      "600\n",
      "700\n",
      "800\n",
      "900\n",
      "1000\n",
      "1100\n",
      "1200\n",
      "1300\n",
      "1400\n",
      "1500\n",
      "1600\n",
      "1700\n",
      "1800\n",
      "1900\n",
      "2000\n",
      "2100\n",
      "2200\n",
      "2300\n",
      "2400\n",
      "2500\n",
      "2600\n",
      "/scratch/dlatorne/MIDOSS/runs/monte-carlo/42-200_near-BP_try3_2022-05-22T142453/results/42-200_near-BP_try3-79/MassBalance_42-200_near-BP_try3-79.sro\n",
      "/scratch/dlatorne/MIDOSS/runs/monte-carlo/42-200_near-BP_try3_2022-05-22T142453/results/42-200_near-BP_try3-83/MassBalance_42-200_near-BP_try3-83.sro\n",
      "/scratch/dlatorne/MIDOSS/runs/monte-carlo/42-200_near-BP_try3_2022-05-22T142453/results/42-200_near-BP_try3-74/MassBalance_42-200_near-BP_try3-74.sro\n",
      "/scratch/dlatorne/MIDOSS/runs/monte-carlo/42-200_near-BP_try3_2022-05-22T142453/results/42-200_near-BP_try3-94/MassBalance_42-200_near-BP_try3-94.sro\n",
      "/scratch/dlatorne/MIDOSS/runs/monte-carlo/42-200_near-BP_try3_2022-05-22T142453/results/42-200_near-BP_try3-21/MassBalance_42-200_near-BP_try3-21.sro\n",
      "2700\n",
      "2800\n",
      "2900\n",
      "3000\n",
      "3100\n",
      "3200\n",
      "3300\n",
      "3400\n",
      "3500\n",
      "3600\n",
      "3700\n",
      "3800\n",
      "3900\n",
      "4000\n",
      "4100\n",
      "4200\n",
      "4300\n",
      "4400\n",
      "4500\n",
      "4600\n",
      "4700\n",
      "4800\n",
      "4900\n",
      "5000\n",
      "5100\n",
      "5200\n",
      "5300\n",
      "5400\n",
      "5500\n",
      "5600\n",
      "/scratch/dlatorne/MIDOSS/runs/monte-carlo/41-200_near-BP_try3_2022-05-22T142401/results/41-200_near-BP_try3-116/MassBalance_41-200_near-BP_try3-116.sro\n",
      "5700\n",
      "5800\n",
      "5900\n",
      "6000\n",
      "6100\n",
      "6200\n",
      "6300\n",
      "6400\n",
      "6500\n",
      "6600\n",
      "6700\n",
      "6800\n",
      "6900\n",
      "7000\n",
      "7100\n",
      "7200\n",
      "7300\n",
      "7400\n",
      "7500\n",
      "7600\n",
      "7700\n",
      "7800\n",
      "7900\n",
      "8000\n",
      "/scratch/dlatorne/MIDOSS/runs/monte-carlo/50-200_near-BP_try3_2022-05-23T130812/results/50-200_near-BP_try3-18/MassBalance_50-200_near-BP_try3-18.sro\n",
      "8100\n",
      "8200\n",
      "8300\n",
      "8400\n",
      "8500\n",
      "8600\n",
      "/scratch/dlatorne/MIDOSS/runs/monte-carlo/31-200_near-BP_try3_2022-05-20T133826/results/31-200_near-BP_try3-9/MassBalance_31-200_near-BP_try3-9.sro\n",
      "/scratch/dlatorne/MIDOSS/runs/monte-carlo/31-200_near-BP_try3_2022-05-20T133826/results/31-200_near-BP_try3-120/MassBalance_31-200_near-BP_try3-120.sro\n",
      "/scratch/dlatorne/MIDOSS/runs/monte-carlo/31-200_near-BP_try3_2022-05-20T133826/results/31-200_near-BP_try3-25/MassBalance_31-200_near-BP_try3-25.sro\n",
      "8700\n",
      "8800\n",
      "8900\n",
      "9000\n",
      "9100\n",
      "9200\n",
      "9300\n",
      "9400\n",
      "9500\n",
      "9600\n",
      "9700\n",
      "9800\n"
     ]
    }
   ],
   "source": [
    "icount = 0\n",
    "output = {}\n",
    "for oil in oils:\n",
    "    output[oil]={}\n",
    "    output[oil]['month']=[]\n",
    "    output[oil]['days_since_spill']=[]\n",
    "    output[oil]['MBeached']=[]\n",
    "    output[oil]['MInitial']=[]\n",
    "    for var in variables:\n",
    "            output[oil][var]=[]\n",
    "count = {}\n",
    "for oil in oils:\n",
    "    count[oil]=0\n",
    "toppath = Path('/scratch/dlatorne/MIDOSS/runs/monte-carlo/')\n",
    "for direct in toppath.glob('*_near-BP_try3*/results/*'):\n",
    "    for myi in direct.glob('Lagrangian*.dat'):\n",
    "        asstr = str(myi)\n",
    "        OilType = asstr[asstr.find('gian_') + 5:asstr.rfind('-')]\n",
    "    for sro_file in direct.glob('MassBalance*.sro'):\n",
    "        data = pd.read_csv(sro_file, sep=\"\\s+\", skiprows=4)\n",
    "        data = data.drop([0], axis=0)\n",
    "        length = len(data)\n",
    "        # Make sure there is data in the file\n",
    "        if length>4:\n",
    "            # tidy up NaN and garbage entries at end of file\n",
    "            data = data.drop([length-3, length-2, length-1, length], axis=0)\n",
    "            data_last = data[-1:]\n",
    "            count[oil_run[OilType]]+=1\n",
    "            output[oil_run[OilType]]['month'].append(int(data_last[\"MM\"].item()))\n",
    "            output[oil_run[OilType]]['days_since_spill'].append(float(data_last[\"Seconds\"])/86400)\n",
    "        # Catalogue last value for each, selected variable\n",
    "            for var in variables:\n",
    "                output[oil_run[OilType]][var].append(data_last[var].item())\n",
    "            # Save initial spill mass. (Row indexing starts at 1 in these files.) \n",
    "            # MassOil = Floating Oil\n",
    "            # I checked and verified that first value is total spilled mass\n",
    "            MInitial = data['MassOil'][1].item()\n",
    "            output[oil_run[OilType]]['MInitial'].append(MInitial)\n",
    "            # calculate MBeached\n",
    "            output[oil_run[OilType]]['MBeached'].append(\n",
    "                (data_last['VolOilBeached']*data_last['Density']/\n",
    "                 (1-data_last['VWaterContent'])*\n",
    "                 (1-data_last['MWaterContent'])).item()\n",
    "            )\n",
    "        else:\n",
    "            print(sro_file)\n",
    "        icount = icount + 1\n",
    "        if int(icount/100)*100 == icount:\n",
    "            print (icount)\n",
    "#    if icount == 100:\n",
    "#        break"
   ]
  },
  {
   "cell_type": "code",
   "execution_count": 4,
   "metadata": {},
   "outputs": [
    {
     "name": "stdout",
     "output_type": "stream",
     "text": [
      "{'bunker': 66, 'akns': 1, 'diesel': 133, 'dilbit': 0}\n"
     ]
    }
   ],
   "source": [
    "print (count)"
   ]
  },
  {
   "cell_type": "code",
   "execution_count": 13,
   "metadata": {},
   "outputs": [],
   "source": [
    "with open('SRO_files_try3_t2.yaml', 'w') as output_yaml:\n",
    "    yaml.safe_dump(output, output_yaml)"
   ]
  },
  {
   "cell_type": "code",
   "execution_count": 8,
   "metadata": {},
   "outputs": [
    {
     "name": "stdout",
     "output_type": "stream",
     "text": [
      "akns:\n",
      "  Density:\n",
      "  - 975.986773523\n",
      "  MBeached:\n",
      "  - 3706532.6486797924\n",
      "  MBio:\n",
      "  - 0.0185623310167\n",
      "  MDispersed:\n",
      "  - 0.025607719195900002\n",
      "  MDissolved:\n"
     ]
    }
   ],
   "source": [
    "! head SRO_files_try3_t2.yaml"
   ]
  },
  {
   "cell_type": "code",
   "execution_count": null,
   "metadata": {},
   "outputs": [],
   "source": []
  }
 ],
 "metadata": {
  "kernelspec": {
   "display_name": "Python 3",
   "language": "python",
   "name": "python3"
  },
  "language_info": {
   "codemirror_mode": {
    "name": "ipython",
    "version": 3
   },
   "file_extension": ".py",
   "mimetype": "text/x-python",
   "name": "python",
   "nbconvert_exporter": "python",
   "pygments_lexer": "ipython3",
   "version": "3.8.2"
  }
 },
 "nbformat": 4,
 "nbformat_minor": 4
}
