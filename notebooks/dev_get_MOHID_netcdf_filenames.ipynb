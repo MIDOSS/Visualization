{
 "cells": [
  {
   "cell_type": "markdown",
   "id": "ec96b1f6-8e9f-4fed-8559-f5b1f1f5d8dd",
   "metadata": {},
   "source": [
    "# Create .yaml file of dictionary with filenames sorted by oil type and whether completed or in queue"
   ]
  },
  {
   "cell_type": "code",
   "execution_count": 7,
   "id": "f9322abd-f82f-477d-b979-768040adb888",
   "metadata": {},
   "outputs": [],
   "source": [
    "import numpy as np\n",
    "import pandas as pd\n",
    "import os\n",
    "import pathlib\n",
    "import xarray as xr\n",
    "import yaml\n",
    "from matplotlib import pyplot as plt, cm, colors\n",
    "from cmocean import cm as cmo\n",
    "from datetime import datetime\n",
    "from glob import glob\n",
    "#from tqdm.notebook import tqdm\n",
    "\n",
    "%matplotlib inline\n",
    "plt.rcParams.update({'font.size': 12, 'axes.titlesize': 12})"
   ]
  },
  {
   "cell_type": "code",
   "execution_count": 8,
   "id": "aac2a432-1372-4ecd-89f8-9503299db509",
   "metadata": {},
   "outputs": [],
   "source": [
    "# Results path\n",
    "results_dir = '/scratch/dlatorne/MIDOSS/runs/monte-carlo'"
   ]
  },
  {
   "cell_type": "code",
   "execution_count": 3,
   "id": "3b3d73d0-1176-4d46-af67-75aa7343c4a1",
   "metadata": {},
   "outputs": [],
   "source": [
    "from glob import glob\n",
    "runsets = sorted(glob(os.path.join(results_dir,\"near-BP_*\")))"
   ]
  },
  {
   "cell_type": "code",
   "execution_count": 4,
   "id": "ec823594-81fa-428f-914a-90138b1e6741",
   "metadata": {},
   "outputs": [
    {
     "data": {
      "text/plain": [
       "['/scratch/dlatorne/MIDOSS/runs/monte-carlo/near-BP_10th-100_2021-09-25T162640',\n",
       " '/scratch/dlatorne/MIDOSS/runs/monte-carlo/near-BP_11th-100_2021-09-25T163107',\n",
       " '/scratch/dlatorne/MIDOSS/runs/monte-carlo/near-BP_12th-100_2021-09-25T163246',\n",
       " '/scratch/dlatorne/MIDOSS/runs/monte-carlo/near-BP_13th-100_2021-09-25T163257',\n",
       " '/scratch/dlatorne/MIDOSS/runs/monte-carlo/near-BP_14th-100_2021-09-25T163437',\n",
       " '/scratch/dlatorne/MIDOSS/runs/monte-carlo/near-BP_15th-100_2021-09-25T163657',\n",
       " '/scratch/dlatorne/MIDOSS/runs/monte-carlo/near-BP_15th-100_2021-09-25T164044',\n",
       " '/scratch/dlatorne/MIDOSS/runs/monte-carlo/near-BP_16th-100_2021-09-25T163910',\n",
       " '/scratch/dlatorne/MIDOSS/runs/monte-carlo/near-BP_16th-100_2021-09-25T164543',\n",
       " '/scratch/dlatorne/MIDOSS/runs/monte-carlo/near-BP_17th-100_2021-09-30T145322',\n",
       " '/scratch/dlatorne/MIDOSS/runs/monte-carlo/near-BP_18th-100_2021-09-30T145416',\n",
       " '/scratch/dlatorne/MIDOSS/runs/monte-carlo/near-BP_19th-100_2021-09-30T145439',\n",
       " '/scratch/dlatorne/MIDOSS/runs/monte-carlo/near-BP_1st-30_2021-09-20T144849',\n",
       " '/scratch/dlatorne/MIDOSS/runs/monte-carlo/near-BP_2000th-100_2021-10-02T144815',\n",
       " '/scratch/dlatorne/MIDOSS/runs/monte-carlo/near-BP_2001th-100_2021-10-02T144828',\n",
       " '/scratch/dlatorne/MIDOSS/runs/monte-carlo/near-BP_2002th-100_2021-10-02T144835',\n",
       " '/scratch/dlatorne/MIDOSS/runs/monte-carlo/near-BP_2003th-100_2021-10-02T144846',\n",
       " '/scratch/dlatorne/MIDOSS/runs/monte-carlo/near-BP_2004th-100_2021-10-02T144852',\n",
       " '/scratch/dlatorne/MIDOSS/runs/monte-carlo/near-BP_20th-100_2021-09-30T145454',\n",
       " '/scratch/dlatorne/MIDOSS/runs/monte-carlo/near-BP_21th-100_2021-09-30T145511',\n",
       " '/scratch/dlatorne/MIDOSS/runs/monte-carlo/near-BP_22th-100_2021-09-30T145524',\n",
       " '/scratch/dlatorne/MIDOSS/runs/monte-carlo/near-BP_23th-100_2021-09-30T145540',\n",
       " '/scratch/dlatorne/MIDOSS/runs/monte-carlo/near-BP_24th-100_2021-09-30T145550',\n",
       " '/scratch/dlatorne/MIDOSS/runs/monte-carlo/near-BP_25th-100_2021-09-30T145608',\n",
       " '/scratch/dlatorne/MIDOSS/runs/monte-carlo/near-BP_26th-100_2021-09-30T145620',\n",
       " '/scratch/dlatorne/MIDOSS/runs/monte-carlo/near-BP_27th-100_2021-10-01T125626',\n",
       " '/scratch/dlatorne/MIDOSS/runs/monte-carlo/near-BP_28th-100_2021-10-01T125650',\n",
       " '/scratch/dlatorne/MIDOSS/runs/monte-carlo/near-BP_29th-100_2021-10-01T125702',\n",
       " '/scratch/dlatorne/MIDOSS/runs/monte-carlo/near-BP_2nd-500_2021-09-22T154614',\n",
       " '/scratch/dlatorne/MIDOSS/runs/monte-carlo/near-BP_30th-100_2021-10-01T125715',\n",
       " '/scratch/dlatorne/MIDOSS/runs/monte-carlo/near-BP_31th-100_2021-10-01T125725',\n",
       " '/scratch/dlatorne/MIDOSS/runs/monte-carlo/near-BP_32th-100_2021-10-01T130756',\n",
       " '/scratch/dlatorne/MIDOSS/runs/monte-carlo/near-BP_33th-100_2021-10-01T132304',\n",
       " '/scratch/dlatorne/MIDOSS/runs/monte-carlo/near-BP_34th-100_2021-10-01T125754',\n",
       " '/scratch/dlatorne/MIDOSS/runs/monte-carlo/near-BP_35th-100_2021-10-01T125802',\n",
       " '/scratch/dlatorne/MIDOSS/runs/monte-carlo/near-BP_36th-100_2021-10-01T125809',\n",
       " '/scratch/dlatorne/MIDOSS/runs/monte-carlo/near-BP_37th-100_2021-10-02T142159',\n",
       " '/scratch/dlatorne/MIDOSS/runs/monte-carlo/near-BP_38th-100_2021-10-02T142220',\n",
       " '/scratch/dlatorne/MIDOSS/runs/monte-carlo/near-BP_39th-100_2021-10-02T142232',\n",
       " '/scratch/dlatorne/MIDOSS/runs/monte-carlo/near-BP_3rd-200_2021-09-23T140522',\n",
       " '/scratch/dlatorne/MIDOSS/runs/monte-carlo/near-BP_40th-100_2021-10-02T142257',\n",
       " '/scratch/dlatorne/MIDOSS/runs/monte-carlo/near-BP_41th-100_2021-10-02T142314',\n",
       " '/scratch/dlatorne/MIDOSS/runs/monte-carlo/near-BP_42th-100_2021-10-02T142328',\n",
       " '/scratch/dlatorne/MIDOSS/runs/monte-carlo/near-BP_43th-100_2021-10-02T142344',\n",
       " '/scratch/dlatorne/MIDOSS/runs/monte-carlo/near-BP_44th-100_2021-10-02T142355',\n",
       " '/scratch/dlatorne/MIDOSS/runs/monte-carlo/near-BP_45th-100_2021-10-02T142408',\n",
       " '/scratch/dlatorne/MIDOSS/runs/monte-carlo/near-BP_46th-100_2021-10-02T142422',\n",
       " '/scratch/dlatorne/MIDOSS/runs/monte-carlo/near-BP_47th-100_2021-10-03T140043',\n",
       " '/scratch/dlatorne/MIDOSS/runs/monte-carlo/near-BP_48th-100_2021-10-03T140124',\n",
       " '/scratch/dlatorne/MIDOSS/runs/monte-carlo/near-BP_49th-100_2021-10-03T140133',\n",
       " '/scratch/dlatorne/MIDOSS/runs/monte-carlo/near-BP_4th-100_2021-09-24T125848',\n",
       " '/scratch/dlatorne/MIDOSS/runs/monte-carlo/near-BP_50th-100_2021-10-03T140143',\n",
       " '/scratch/dlatorne/MIDOSS/runs/monte-carlo/near-BP_51th-100_2021-10-03T140156',\n",
       " '/scratch/dlatorne/MIDOSS/runs/monte-carlo/near-BP_52th-100_2021-10-03T140206',\n",
       " '/scratch/dlatorne/MIDOSS/runs/monte-carlo/near-BP_53th-100_2021-10-03T140217',\n",
       " '/scratch/dlatorne/MIDOSS/runs/monte-carlo/near-BP_54th-100_2021-10-03T140225',\n",
       " '/scratch/dlatorne/MIDOSS/runs/monte-carlo/near-BP_55th-100_2021-10-03T140235',\n",
       " '/scratch/dlatorne/MIDOSS/runs/monte-carlo/near-BP_56th-100_2021-10-03T140244',\n",
       " '/scratch/dlatorne/MIDOSS/runs/monte-carlo/near-BP_57th-100_2021-10-03T140254',\n",
       " '/scratch/dlatorne/MIDOSS/runs/monte-carlo/near-BP_58th-100_2021-10-03T140305',\n",
       " '/scratch/dlatorne/MIDOSS/runs/monte-carlo/near-BP_59th-100_2021-10-03T140312',\n",
       " '/scratch/dlatorne/MIDOSS/runs/monte-carlo/near-BP_5th-100_2021-09-25T154734',\n",
       " '/scratch/dlatorne/MIDOSS/runs/monte-carlo/near-BP_60th-100_2021-10-03T140322',\n",
       " '/scratch/dlatorne/MIDOSS/runs/monte-carlo/near-BP_61th-100_2021-10-03T140331',\n",
       " '/scratch/dlatorne/MIDOSS/runs/monte-carlo/near-BP_62th-100_2021-10-03T140340',\n",
       " '/scratch/dlatorne/MIDOSS/runs/monte-carlo/near-BP_63th-100_2021-10-03T140348',\n",
       " '/scratch/dlatorne/MIDOSS/runs/monte-carlo/near-BP_64th-100_2021-10-03T140356',\n",
       " '/scratch/dlatorne/MIDOSS/runs/monte-carlo/near-BP_65th-100_2021-10-03T140405',\n",
       " '/scratch/dlatorne/MIDOSS/runs/monte-carlo/near-BP_66th-100_2021-10-03T140414',\n",
       " '/scratch/dlatorne/MIDOSS/runs/monte-carlo/near-BP_6th-100_2021-09-25T155158',\n",
       " '/scratch/dlatorne/MIDOSS/runs/monte-carlo/near-BP_7th-100_2021-09-25T155211',\n",
       " '/scratch/dlatorne/MIDOSS/runs/monte-carlo/near-BP_8th-100_2021-09-25T155453',\n",
       " '/scratch/dlatorne/MIDOSS/runs/monte-carlo/near-BP_9th-100_2021-09-25T162105']"
      ]
     },
     "execution_count": 4,
     "metadata": {},
     "output_type": "execute_result"
    }
   ],
   "source": [
    "runsets"
   ]
  },
  {
   "cell_type": "code",
   "execution_count": 5,
   "id": "6fbaf349-bf60-4301-a822-a6db5e51db0f",
   "metadata": {},
   "outputs": [],
   "source": [
    "runsets_5 = runsets[:5]"
   ]
  },
  {
   "cell_type": "code",
   "execution_count": 6,
   "id": "7b307a4a-878e-4d09-b618-2ac76d376bd6",
   "metadata": {},
   "outputs": [
    {
     "data": {
      "text/plain": [
       "['/scratch/dlatorne/MIDOSS/runs/monte-carlo/near-BP_10th-100_2021-09-25T162640',\n",
       " '/scratch/dlatorne/MIDOSS/runs/monte-carlo/near-BP_11th-100_2021-09-25T163107',\n",
       " '/scratch/dlatorne/MIDOSS/runs/monte-carlo/near-BP_12th-100_2021-09-25T163246',\n",
       " '/scratch/dlatorne/MIDOSS/runs/monte-carlo/near-BP_13th-100_2021-09-25T163257',\n",
       " '/scratch/dlatorne/MIDOSS/runs/monte-carlo/near-BP_14th-100_2021-09-25T163437']"
      ]
     },
     "execution_count": 6,
     "metadata": {},
     "output_type": "execute_result"
    }
   ],
   "source": [
    "runsets_5"
   ]
  },
  {
   "cell_type": "code",
   "execution_count": 21,
   "id": "0cb67ee3-6ae4-4eef-9f00-fae3a4f32cd6",
   "metadata": {},
   "outputs": [],
   "source": [
    "#sorted(glob(os.path.join('/scratch/dlatorne/MIDOSS/runs/monte-carlo/near-BP_10th-100_2021-09-25T162640/results/*')))"
   ]
  },
  {
   "cell_type": "code",
   "execution_count": 7,
   "id": "e01201db-43ab-4b8d-9b53-0dcd2917d559",
   "metadata": {},
   "outputs": [],
   "source": [
    "runset = runsets_5[0]"
   ]
  },
  {
   "cell_type": "code",
   "execution_count": 15,
   "id": "1dc6be70-cb76-4a7f-9a36-dccb25813c68",
   "metadata": {},
   "outputs": [
    {
     "data": {
      "text/plain": [
       "'/scratch/dlatorne/MIDOSS/runs/monte-carlo/near-BP_10th-100_2021-09-25T162640/results/near-BP_10th-100-0'"
      ]
     },
     "execution_count": 15,
     "metadata": {},
     "output_type": "execute_result"
    }
   ],
   "source": [
    "list.append(list)\n",
    "list[0]"
   ]
  },
  {
   "cell_type": "code",
   "execution_count": 20,
   "id": "73a85a9d-6103-4d9e-9fa0-6a938d3930a3",
   "metadata": {},
   "outputs": [
    {
     "name": "stdout",
     "output_type": "stream",
     "text": [
      "/scratch/dlatorne/MIDOSS/runs/monte-carlo/near-BP_10th-100_2021-09-25T162640\n",
      "/scratch/dlatorne/MIDOSS/runs/monte-carlo/near-BP_11th-100_2021-09-25T163107\n",
      "/scratch/dlatorne/MIDOSS/runs/monte-carlo/near-BP_12th-100_2021-09-25T163246\n",
      "/scratch/dlatorne/MIDOSS/runs/monte-carlo/near-BP_13th-100_2021-09-25T163257\n",
      "/scratch/dlatorne/MIDOSS/runs/monte-carlo/near-BP_14th-100_2021-09-25T163437\n"
     ]
    }
   ],
   "source": [
    "runs = []\n",
    "for runset in runsets_5:\n",
    "    runs.extend(sorted(glob(os.path.join(runset,'results','near-BP_*')))[:])"
   ]
  },
  {
   "cell_type": "code",
   "execution_count": 24,
   "id": "41c1fd3f-1ddd-4050-8ebd-27954a7f8f3c",
   "metadata": {},
   "outputs": [],
   "source": [
    "netcdf_files = []\n",
    "for run in runs:\n",
    "    netcdf_files.extend(sorted(glob(os.path.join(run,'Lagrangian*.nc')))[:])"
   ]
  },
  {
   "cell_type": "code",
   "execution_count": 26,
   "id": "42c0d3d2-eaa1-4eba-a9f1-620cba199dc6",
   "metadata": {},
   "outputs": [
    {
     "data": {
      "text/plain": [
       "'/scratch/dlatorne/MIDOSS/runs/monte-carlo/near-BP_10th-100_2021-09-25T162640/results/near-BP_10th-100-0/Lagrangian_bunker-0_near-BP_10th-100-0.nc'"
      ]
     },
     "execution_count": 26,
     "metadata": {},
     "output_type": "execute_result"
    }
   ],
   "source": [
    "netcdf_files[0]"
   ]
  },
  {
   "cell_type": "code",
   "execution_count": 28,
   "id": "297e2bbd-5d20-4071-a8ff-c97ea859f691",
   "metadata": {},
   "outputs": [
    {
     "data": {
      "text/plain": [
       "'bunker'"
      ]
     },
     "execution_count": 28,
     "metadata": {},
     "output_type": "execute_result"
    }
   ],
   "source": [
    "oiltype = netcdf_files[0].split('/')[-1].split('_')[1].split('-')[0]\n",
    "oiltype"
   ]
  },
  {
   "cell_type": "code",
   "execution_count": 29,
   "id": "1d936d7f-fc34-4b2b-ad32-67c113946c58",
   "metadata": {},
   "outputs": [],
   "source": [
    "oil_types = [\n",
    "    'akns', \n",
    "    'bunker', \n",
    "    'dilbit', \n",
    "    'jet', \n",
    "    'diesel', \n",
    "    'gas', \n",
    "    'other'\n",
    "]"
   ]
  },
  {
   "cell_type": "code",
   "execution_count": 41,
   "id": "bc097f6c-0bab-417c-aee3-dc466ddb0681",
   "metadata": {},
   "outputs": [],
   "source": [
    "file_boolean = {}\n",
    "files = {}\n",
    "file_boolean[oil_types[0]] = [oil_types[0] in file for file in netcdf_files]\n",
    "files[oil_types[0]]=[file for i,file in enumerate(netcdf_files)  if file_boolean[oil_types[0]][i]]"
   ]
  },
  {
   "cell_type": "code",
   "execution_count": 42,
   "id": "b9ba156c-8944-4dbf-85e1-17b33aae1b26",
   "metadata": {},
   "outputs": [
    {
     "data": {
      "text/plain": [
       "['/scratch/dlatorne/MIDOSS/runs/monte-carlo/near-BP_13th-100_2021-09-25T163257/results/near-BP_13th-100-61/Lagrangian_akns-61_near-BP_13th-100-61.nc',\n",
       " '/scratch/dlatorne/MIDOSS/runs/monte-carlo/near-BP_14th-100_2021-09-25T163437/results/near-BP_14th-100-21/Lagrangian_akns-21_near-BP_14th-100-21.nc',\n",
       " '/scratch/dlatorne/MIDOSS/runs/monte-carlo/near-BP_14th-100_2021-09-25T163437/results/near-BP_14th-100-94/Lagrangian_akns-94_near-BP_14th-100-94.nc']"
      ]
     },
     "execution_count": 42,
     "metadata": {},
     "output_type": "execute_result"
    }
   ],
   "source": [
    "files[oil_types[0]] "
   ]
  },
  {
   "cell_type": "markdown",
   "id": "58489c6a-1ba1-4f0b-a273-ff3996ef09ce",
   "metadata": {},
   "source": [
    "### time to pull all this together"
   ]
  },
  {
   "cell_type": "code",
   "execution_count": 9,
   "id": "4aa13fda-393d-4291-bbd5-f43692fa4da4",
   "metadata": {},
   "outputs": [],
   "source": [
    "def get_MOHID_netcdf_filenames(results_dir, output_dir):\n",
    "    \"\"\"Get lists of filepaths and filenames for netcdf files of model output, \n",
    "    grouped by oil types. NOTE: jet and gas are run as diesel; other is run \n",
    "    as bunker.  \n",
    "    \n",
    "    :param str results_dir: File path for root directory of run sets. \n",
    "    On Graham, the filepath is `/scratch/dlatorne/MIDOSS/runs/monte-carlo`\n",
    "    \n",
    "    :param str output_dir: File path for storing MOHID_results_locations_{date}.yaml,\n",
    "    which contains file paths for completed runs, sorted by oil type.  \n",
    "    \n",
    "    :return: Dataframe of file paths and names, sorted by oil types, namely: \n",
    "    akns, bunker, dilbit, jet, diesel, gas and other.  Note: jet and gas are \n",
    "    run as diesel; other is run as bunker.  \n",
    "    :rtype: :py:class:`pandas.DataFrame`\n",
    "    \"\"\"\n",
    "    oil_types = [\n",
    "        'akns', \n",
    "        'bunker', \n",
    "        'dilbit', \n",
    "        'jet', \n",
    "        'diesel', \n",
    "        'gas', \n",
    "        'other'\n",
    "    ]\n",
    "    # get list of runsets\n",
    "    runsets = sorted(glob(os.path.join(results_dir,\"near-BP_*\")))\n",
    "    # get list of runs within each runset\n",
    "    runs = []\n",
    "    for runset in runsets:\n",
    "        runs.extend(sorted(\n",
    "            glob(os.path.join(runset,'results','near-BP_*')))[:])        \n",
    "    # get complete list of netcdf files\n",
    "    netcdf_files = []\n",
    "    for run in runs:\n",
    "        netcdf_files.extend(sorted(\n",
    "            glob(os.path.join(run,'Lagrangian*.nc')))[:])\n",
    "    # sort filenames by oil type.  \n",
    "    file_boolean = {}\n",
    "    files = {}\n",
    "    files['all'] = []\n",
    "    for oil in oil_types:\n",
    "        file_boolean[oil] = [oil in file for file in netcdf_files]\n",
    "        files[oil]='test'#[file for i,file in enumerate(netcdf_files) \\\n",
    "                    #if file_boolean[oil][i]]\n",
    "        files['all'].extend(files[oil])\n",
    "    \n",
    "    # write filenames to .yaml with timestamp ID\n",
    "    now = datetime.now()\n",
    "    dt_string = now.strftime(\"%d%m%Y_%H:%M:%S\")\n",
    "    out_f = output_dir+f'/MOHID_results_locations_{dt_string}.yaml'\n",
    "    print(out_f)\n",
    "    with open(out_f, 'w') as output_yaml:\n",
    "        documents = yaml.safe_dump(files, output_yaml)\n",
    "    \n",
    "    return files"
   ]
  },
  {
   "cell_type": "code",
   "execution_count": 10,
   "id": "18f9756d-4481-4843-8d09-f0dbe42194fe",
   "metadata": {},
   "outputs": [
    {
     "name": "stdout",
     "output_type": "stream",
     "text": [
      "/home/rmueller/projects/def-allen/rmueller/MIDOSS/Visualization/MOHID_results_locations_07102021_15:19:03.yaml\n",
      "CPU times: user 481 ms, sys: 781 ms, total: 1.26 s\n",
      "Wall time: 3.77 s\n"
     ]
    }
   ],
   "source": [
    "%%time\n",
    "output_dir = '/home/rmueller/projects/def-allen/rmueller/MIDOSS/Visualization'\n",
    "files = get_MOHID_netcdf_filenames(results_dir, output_dir)"
   ]
  },
  {
   "cell_type": "code",
   "execution_count": 55,
   "id": "6e8c280e-79f1-4853-82db-da6e24fcdb55",
   "metadata": {},
   "outputs": [
    {
     "data": {
      "text/plain": [
       "'/scratch/dlatorne/MIDOSS/runs/monte-carlo/near-BP_13th-100_2021-09-25T163257/results/near-BP_13th-100-61/Lagrangian_akns-61_near-BP_13th-100-61.nc'"
      ]
     },
     "execution_count": 55,
     "metadata": {},
     "output_type": "execute_result"
    }
   ],
   "source": [
    "files['akns'][0]"
   ]
  },
  {
   "cell_type": "code",
   "execution_count": 56,
   "id": "aa8c5d6e-8b51-4720-ae83-fbdb39516ae9",
   "metadata": {},
   "outputs": [
    {
     "name": "stdout",
     "output_type": "stream",
     "text": [
      "akns: 49 completed runs\n",
      "bunker: 2267 completed runs\n",
      "dilbit: 1 completed runs\n",
      "jet: 16 completed runs\n",
      "diesel: 3969 completed runs\n",
      "gas: 54 completed runs\n",
      "other: 48 completed runs\n"
     ]
    }
   ],
   "source": [
    "oil_types = [\n",
    "        'akns', \n",
    "        'bunker', \n",
    "        'dilbit', \n",
    "        'jet', \n",
    "        'diesel', \n",
    "        'gas', \n",
    "        'other'\n",
    "    ]\n",
    "for oil in oil_types:\n",
    "    print(f'{oil}: {len(files[oil])} completed runs')"
   ]
  },
  {
   "cell_type": "code",
   "execution_count": 1,
   "id": "38eb8823-b9b5-487a-8aa3-e254762ea6ef",
   "metadata": {},
   "outputs": [
    {
     "name": "stdout",
     "output_type": "stream",
     "text": [
      "Today's date: 2021-10-07\n"
     ]
    }
   ],
   "source": [
    "from datetime import date\n",
    "\n",
    "today = date.today()\n",
    "print(\"Today's date:\", today)"
   ]
  },
  {
   "cell_type": "code",
   "execution_count": 6,
   "id": "fcfa9b2b-ee57-4b56-841e-ca4a1809ab62",
   "metadata": {},
   "outputs": [
    {
     "name": "stdout",
     "output_type": "stream",
     "text": [
      "now = 2021-10-07 14:29:31.691427\n",
      "date and time = 07102021_14:29:31\n"
     ]
    }
   ],
   "source": [
    "from datetime import datetime\n",
    "# datetime object containing current date and time\n",
    "now = datetime.now()\n",
    " \n",
    "print(\"now =\", now)\n",
    "\n",
    "# dd/mm/YY H:M:S\n",
    "dt_string = now.strftime(\"%d%m%Y_%H:%M:%S\")\n",
    "print(\"date and time =\", dt_string)\t"
   ]
  },
  {
   "cell_type": "code",
   "execution_count": null,
   "id": "af008599-9fb2-46cf-b556-b10d95eacbc5",
   "metadata": {},
   "outputs": [],
   "source": []
  }
 ],
 "metadata": {
  "kernelspec": {
   "display_name": "Python 3 (ipykernel)",
   "language": "python",
   "name": "python3"
  },
  "language_info": {
   "codemirror_mode": {
    "name": "ipython",
    "version": 3
   },
   "file_extension": ".py",
   "mimetype": "text/x-python",
   "name": "python",
   "nbconvert_exporter": "python",
   "pygments_lexer": "ipython3",
   "version": "3.8.2"
  }
 },
 "nbformat": 4,
 "nbformat_minor": 5
}
