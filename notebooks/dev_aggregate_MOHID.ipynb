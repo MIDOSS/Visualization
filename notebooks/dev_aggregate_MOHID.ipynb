{
 "cells": [
  {
   "cell_type": "markdown",
   "id": "7770b621-f2fb-4397-a456-96bad4cd3566",
   "metadata": {},
   "source": [
    "# This is a development notebook for the function aggregate_surface"
   ]
  },
  {
   "cell_type": "code",
   "execution_count": 1,
   "id": "97a7eefa-6211-4774-b0d0-800827ebcb50",
   "metadata": {},
   "outputs": [],
   "source": [
    "import numpy as np\n",
    "import pandas as pd\n",
    "import os\n",
    "import pathlib\n",
    "import xarray as xr\n",
    "import sys\n",
    "from matplotlib import pyplot as plt, cm, colors\n",
    "from cmocean import cm as cmo\n",
    "from datetime import datetime\n",
    "from glob import glob\n",
    "#from tqdm.notebook import tqdm\n",
    "sys.path.insert(\n",
    "    0, \n",
    "    '/home/rmueller/projects/def-allen/rmueller/MIDOSS/Visualization/scripts'\n",
    ")\n",
    "from viz_MOHID_tools import get_MOHID_netcdf_filenames\n",
    "\n",
    "%matplotlib inline\n",
    "plt.rcParams.update({'font.size': 12, 'axes.titlesize': 12})"
   ]
  },
  {
   "cell_type": "code",
   "execution_count": 2,
   "id": "a4d18b84-6804-4d33-8307-c92913101ed4",
   "metadata": {},
   "outputs": [],
   "source": [
    "# Results path\n",
    "results_dir = '/scratch/dlatorne/MIDOSS/runs/monte-carlo'\n",
    "# location of yaml file with runs dictionary sorted into oil types\n",
    "yaml_dir = pathlib.Path(\n",
    "    '/home/rmueller/projects/def-allen/rmueller/MIDOSS/Visualization'\n",
    ")\n",
    "# location to store aggregated netcdf\n",
    "netcdf_dir = pathlib.Path(f'/scratch/rmueller/MIDOSS/Results') \n",
    "\n",
    "# NEMO meshmask\n",
    "mask = xr.open_dataset(\n",
    "    '/project/def-allen/rmueller/MEOPAR/grid/mesh_mask201702.nc'\n",
    ")\n",
    "\n",
    "oil_types = [\n",
    "    'akns', \n",
    "    'bunker', \n",
    "    'dilbit', \n",
    "    'jet', \n",
    "    'diesel', \n",
    "    'gas', \n",
    "    'other'\n",
    "]\n",
    "\n",
    "# Specify surface level for depth slice\n",
    "zlevel = 39\n",
    "slc = {'grid_z': zlevel}\n",
    "#slc2D = {'grid_y': slice(jmin, jmax), 'grid_x': slice(imin, imax)}"
   ]
  },
  {
   "cell_type": "code",
   "execution_count": 3,
   "id": "504a6750-28a4-45b4-9047-c31da725d0f7",
   "metadata": {},
   "outputs": [],
   "source": [
    "# %%time\n",
    "# output_dir = '/home/rmueller/projects/def-allen/rmueller/MIDOSS/Visualization'\n",
    "# files = get_MOHID_netcdf_filenames(results_dir, yaml_dir)\n",
    "\n",
    "# This took 13 seconds to run "
   ]
  },
  {
   "cell_type": "code",
   "execution_count": 4,
   "id": "f3ebfb68-25f3-4f2e-a7eb-982dea0a811d",
   "metadata": {},
   "outputs": [
    {
     "name": "stdout",
     "output_type": "stream",
     "text": [
      "CPU times: user 2.96 s, sys: 56 ms, total: 3.01 s\n",
      "Wall time: 3.02 s\n"
     ]
    }
   ],
   "source": [
    "%%time\n",
    "import yaml\n",
    "filenames_yaml = yaml_dir / 'MOHID_results_locations_07102021_15:52:22.yaml'\n",
    "with filenames_yaml.open(\"rt\") as f:\n",
    "    fn = yaml.safe_load(f)"
   ]
  },
  {
   "cell_type": "code",
   "execution_count": 5,
   "id": "07e44940-078a-4879-838a-3b900d57da48",
   "metadata": {},
   "outputs": [
    {
     "name": "stdout",
     "output_type": "stream",
     "text": [
      "akns: 53 completed runs\n",
      "bunker: 2498 completed runs\n",
      "dilbit: 1 completed runs\n",
      "jet: 20 completed runs\n",
      "diesel: 4268 completed runs\n",
      "gas: 57 completed runs\n",
      "other: 52 completed runs\n"
     ]
    }
   ],
   "source": [
    "for oil in oil_types:\n",
    "    print(f'{oil}: {len(fn[oil])} completed runs')"
   ]
  },
  {
   "cell_type": "markdown",
   "id": "b729e04e-88bc-4e03-bc33-4020175a02e9",
   "metadata": {},
   "source": [
    "## Aggregate ANS results "
   ]
  },
  {
   "cell_type": "code",
   "execution_count": 6,
   "id": "bba819db-7867-43c3-a692-7d71eac73ffc",
   "metadata": {},
   "outputs": [],
   "source": [
    "# get dimensions\n",
    "nruns = 5\n",
    "ny,nx = 896, 396\n",
    "# set dimensions for netcdf output\n",
    "x, y = np.arange(0,nx), np.arange(0,ny)\n",
    "# create threshold for surface volume in m3\n",
    "surface_threshold = 3 * 1e-3\n",
    "beach_threshold = 3 * 1e-3"
   ]
  },
  {
   "cell_type": "code",
   "execution_count": 7,
   "id": "c74d640d-3dbe-4788-af2f-aac132c43f15",
   "metadata": {},
   "outputs": [
    {
     "name": "stdout",
     "output_type": "stream",
     "text": [
      "max(a,b): [True, True]\n",
      "min(a,b): [True, False]\n"
     ]
    }
   ],
   "source": [
    "a = [True, False]\n",
    "b = [True, True]\n",
    "print('max(a,b):', max(a, b))\n",
    "print('min(a,b):', min(a, b))"
   ]
  },
  {
   "cell_type": "code",
   "execution_count": 8,
   "id": "e69e85d4-9e92-4278-920c-cc9e811d2146",
   "metadata": {},
   "outputs": [
    {
     "data": {
      "text/plain": [
       "array([1, 0])"
      ]
     },
     "execution_count": 8,
     "metadata": {},
     "output_type": "execute_result"
    }
   ],
   "source": [
    "np.array(a).astype(int)"
   ]
  },
  {
   "cell_type": "markdown",
   "id": "7e069298-877b-4228-abac-f421b11d81fc",
   "metadata": {},
   "source": [
    "### Still missing: \n",
    "- i,j \"surface oil presence\" indexing for each run to use for water column calcs\n",
    "- surface presence by timing < 1 day, < 3 days, < 7 days\n",
    "- yaml file with \"processed runs\" listed (by oil type and \"all\") to document which runs have been aggregated.  This file will be used together with \"filenames_yaml\" to identify which runs still need to be \"processed\""
   ]
  },
  {
   "cell_type": "markdown",
   "id": "502d3369-071e-4484-85cd-27c95fb4cecf",
   "metadata": {},
   "source": [
    "### Need to verify\n",
    "- beaching presence threshold (I set to surface presence for now)"
   ]
  },
  {
   "cell_type": "code",
   "execution_count": 10,
   "id": "dde5fafa-c00f-4bec-a608-55bc6098ae90",
   "metadata": {},
   "outputs": [],
   "source": [
    "Results = {}\n",
    "Results['SurfacePresence'] = np.zeros((nruns, ny, nx))\n",
    "Results['SurfaceTotalVolume'] = np.zeros((nruns,ny,nx))\n",
    "Results['BeachTime'] = np.zeros((nruns, ny, nx))\n",
    "Results['BeachVolume'] = np.zeros((nruns, ny, nx))\n",
    "Results['BeachPresence'] = np.zeros((nruns, ny, nx))\n",
    "Results['Files']=[]\n",
    "#------------------------------------------------------------\n",
    "# \"oil\" will eventually be assigned in for-loop\n",
    "oil = 'akns'\n",
    "#------------------------------------------------------------\n",
    "# This will become 100 or more\n",
    "nruns = 5\n",
    "#------------------------------------------------------------\n",
    "# group number will be assigned by the N groups of files \n",
    "# created by dividing the total runs in each oil type by the \n",
    "# \"nruns\" processed here\n",
    "group = 1\n",
    "#------------------------------------------------------------\n",
    "# define output netcdf name\n",
    "aggregated_netcdf = netcdf_dir / f'{oil}_runset{group}.nc'\n",
    "#------------------------------------------------------------\n",
    "# loop through and aggregate nruns in oil type\n",
    "# this will need to be updated when loop through groups is \n",
    "# introduced\n",
    "for run in range(nruns):\n",
    "    input_file = fn[oil][run]\n",
    "    Results['Files'].extend(input_file)\n",
    "    with xr.open_dataset(input_file) as ds:\n",
    "        data = ds.OilWaterColumnOilVol_3D.isel(slc).values\n",
    "        # create boolean array for surface presence of oil > threshold\n",
    "        Results['SurfacePresence'][run,:,:] = data[:, ...].max(axis=0) >= surface_threshold\n",
    "        # integrate surface volume for map of greatest oiling exposure\n",
    "        Results['SurfaceTotalVolume'][run,:,:] = data[:, ...].sum(axis=0)\n",
    "        # set values below volume threshold to zero\n",
    "        Results['SurfaceTotalVolume'][Results['SurfaceTotalVolume'] < surface_threshold] = 0\n",
    "        # beaching time, volume, and presence\n",
    "        Results['BeachTime'][run,:,:] = ds.Beaching_Time.values -ds.Beaching_Time.values.min()\n",
    "        Results['BeachVolume'][run,:,:] = ds.Beaching_Volume.values\n",
    "        Results['BeachPresence'][run,:,:] = ds.Beaching_Volume.values >= beach_threshold\n",
    "        # only keep beaching volume and time if volume above threshold\n",
    "        Results['BeachTime'][Results['BeachVolume'] < beach_threshold] = 0\n",
    "        Results['BeachVolume'][Results['BeachVolume'] < beach_threshold] = 0\n",
    "\n",
    "# Create Output dictionary that flattens results across all runs\n",
    "Output = {}\n",
    "Output['SurfacePresence'] = Results['SurfacePresence'].max(axis=0)\n",
    "Output['SurfaceMaxTotalVolume'] = Results['SurfaceTotalVolume'].max(axis=0)\n",
    "Output['MinBeachTime'] = Results['BeachTime'].min(axis=0)\n",
    "Output['MaxBeachVolume'] = Results['BeachVolume'].max(axis=0)\n",
    "# Count runs with surface presence for probability calc. later\n",
    "SurfacePresence_ones = np.array(Results['SurfacePresence']).astype(int)\n",
    "Output['SurfacePresenceCount'] = SurfacePresence_ones.sum(axis=0)\n",
    "# Count runs with beaching for probability calc. later\n",
    "BeachPresence_ones = np.array(Results['BeachPresence']).astype(int)\n",
    "Output['BeachPresenceCount'] = BeachPresence_ones.sum(axis=0)\n",
    "\n",
    "# Write monte-carlo results to netcdf\n",
    "ds = xr.Dataset({\n",
    "        'SurfacePresence': (['y', 'x'], np.array(Output['SurfacePresence'])),\n",
    "        'SurfaceMaxTotalVolume': (['y', 'x'], np.array(Output['SurfaceMaxTotalVolume'])),\n",
    "        'MinBeachTime': (['y', 'x'], np.array(Output['MinBeachTime'])),\n",
    "        'MaxBeachVolume': (['y', 'x'], np.array(Output['MaxBeachVolume'])),\n",
    "        'SurfacePresenceCount': (['y', 'x'], np.array(Output['SurfacePresenceCount'])),\n",
    "        'BeachPresenceCount': (['y', 'x'], np.array(Output['BeachPresenceCount']))\n",
    "    },\n",
    "    coords={'Files': np.array(Results['Files']), 'y': y, 'x': x},\n",
    ")"
   ]
  },
  {
   "cell_type": "code",
   "execution_count": 11,
   "id": "0c232e60-f796-4ec2-8fc4-36a9561f7ee3",
   "metadata": {},
   "outputs": [],
   "source": [
    "# Save output to netcdf\n",
    "ds.to_netcdf(aggregated_netcdf, engine='h5netcdf')"
   ]
  },
  {
   "cell_type": "markdown",
   "id": "aeb27624-930c-4f21-ae6b-6ee81c7c15b0",
   "metadata": {},
   "source": [
    "## Quick plot of results "
   ]
  },
  {
   "cell_type": "code",
   "execution_count": 13,
   "id": "9fd9c159-82d5-42b0-9231-033c978f9a77",
   "metadata": {},
   "outputs": [
    {
     "data": {
      "text/plain": [
       "(896, 396)"
      ]
     },
     "execution_count": 13,
     "metadata": {},
     "output_type": "execute_result"
    }
   ],
   "source": [
    "Output['SurfaceMaxTotalVolume'].shape"
   ]
  },
  {
   "cell_type": "code",
   "execution_count": 19,
   "id": "eb776b2c-09b8-4905-9a5d-711299666e4a",
   "metadata": {},
   "outputs": [
    {
     "data": {
      "text/plain": [
       "Text(0.5, 1.0, 'Log(Max. of integrated volume\\n across runs)')"
      ]
     },
     "execution_count": 19,
     "metadata": {},
     "output_type": "execute_result"
    },
    {
     "data": {
      "image/png": "[encoded data removed]",
      "text/plain": [
       "<Figure size 864x1152 with 3 Axes>"
      ]
     },
     "metadata": {
      "needs_background": "light"
     },
     "output_type": "display_data"
    }
   ],
   "source": [
    "# Plot results\n",
    "Output['SurfaceMaxTotalVolume'][Output['SurfaceMaxTotalVolume']< 1e-5]=1e-5\n",
    "fig, axs = plt.subplots(1, 3, figsize=(12, 16), gridspec_kw={'wspace': 0.1, 'hspace': 0.1})\n",
    "axs[0].contourf(Output['SurfacePresence'])\n",
    "axs[1].contourf(Output['SurfacePresenceCount'])\n",
    "axs[2].contourf(np.log(Output['SurfaceMaxTotalVolume']))\n",
    "axs[0].set_title('Surface Presence')\n",
    "axs[1].set_title('Number of runs \\n with presence')\n",
    "axs[2].set_title('Log(Max. of integrated volume\\n across runs)')"
   ]
  },
  {
   "cell_type": "markdown",
   "id": "da16b0f8-8c81-46ca-b9a9-ba443f22f7f8",
   "metadata": {},
   "source": [
    "---\n",
    "## Older dev code below\n",
    "---"
   ]
  },
  {
   "cell_type": "code",
   "execution_count": null,
   "id": "dd58a9da-9f48-4884-bccd-fc75fd5f3d65",
   "metadata": {},
   "outputs": [],
   "source": [
    "with xr.open_dataset(input_file) as ds:\n",
    "    data = ds.OilWaterColumnOilVol_3D.isel(slc).values"
   ]
  },
  {
   "cell_type": "markdown",
   "id": "0ac1ac14-fc5c-45db-b5e4-164257d3a010",
   "metadata": {},
   "source": [
    "### Data is now the surface level with time-, y-, and x-dimensions"
   ]
  },
  {
   "cell_type": "code",
   "execution_count": null,
   "id": "61fe23ce-5c78-4bc5-9c34-e692d732cc1c",
   "metadata": {},
   "outputs": [],
   "source": [
    "data[:, ...].max(axis=0).shape"
   ]
  },
  {
   "cell_type": "markdown",
   "id": "9cfe88d1-cd08-48e5-8f92-c0d5d63873df",
   "metadata": {
    "tags": []
   },
   "source": [
    "### Create presence map based on where volume > 3L"
   ]
  },
  {
   "cell_type": "code",
   "execution_count": null,
   "id": "42b401c4-cd28-4343-b4e6-127893102f73",
   "metadata": {},
   "outputs": [],
   "source": [
    "# create threshold in m3\n",
    "threshold = 3 * 1e-3\n",
    "presence = data[:, ...].max(axis=0) > threshold"
   ]
  },
  {
   "cell_type": "code",
   "execution_count": null,
   "id": "fd689f49-c22f-4dfb-bed0-c548bb948fd9",
   "metadata": {},
   "outputs": [],
   "source": [
    "presence.shape"
   ]
  },
  {
   "cell_type": "code",
   "execution_count": null,
   "id": "388b7966-5c9c-4668-8614-88e3d1b0d58f",
   "metadata": {},
   "outputs": [],
   "source": [
    "presence.min()"
   ]
  },
  {
   "cell_type": "code",
   "execution_count": null,
   "id": "b844f1cf-e05d-4212-b6a7-0e42680962ae",
   "metadata": {},
   "outputs": [],
   "source": [
    "presence.max()"
   ]
  },
  {
   "cell_type": "code",
   "execution_count": null,
   "id": "5c9f8392-4dbc-4da8-b198-ddbcb560bc9c",
   "metadata": {},
   "outputs": [],
   "source": [
    "presence.dtype"
   ]
  },
  {
   "cell_type": "code",
   "execution_count": null,
   "id": "cc523e71-6626-49f8-9584-e811a1d2f29b",
   "metadata": {},
   "outputs": [],
   "source": [
    "fig = plt.figure()\n",
    "ax1 = fig.add_subplot(121)\n",
    "ax1.imshow(presence, \n",
    "          aspect='auto', \n",
    "          cmap=plt.cm.gray, \n",
    "          interpolation='nearest')\n",
    "ax1.set_title('Presence > 3L')\n",
    "ax2 = fig.add_subplot(122)\n",
    "ax2.imshow(data[:, ...].max(axis=0) > 0, \n",
    "          aspect='auto', \n",
    "          cmap=plt.cm.gray, \n",
    "          interpolation='nearest')\n",
    "ax2.set_title('Presence > 0L')"
   ]
  },
  {
   "cell_type": "markdown",
   "id": "45823154-965a-42cc-94d6-e94670b96244",
   "metadata": {},
   "source": [
    "### Integrated surface volume > 3L"
   ]
  },
  {
   "cell_type": "code",
   "execution_count": null,
   "id": "486143eb-5a08-42bf-afb2-595deb39c3f8",
   "metadata": {},
   "outputs": [],
   "source": [
    "nt,ny,nx = data.shape\n",
    "Results = {}\n",
    "Results['SurfaceIntVol'] = np.zeros((ny,nx))\n",
    "Results['SurfaceIntVol'] = data[:, ...].sum(axis=0)\n",
    "Results['SurfaceIntVol'].shape"
   ]
  },
  {
   "cell_type": "code",
   "execution_count": null,
   "id": "fde56ac4-a7a2-4d13-9c25-49c6aa8c6864",
   "metadata": {},
   "outputs": [],
   "source": [
    "# set values below 3L threshold to zero\n",
    "Results['SurfaceIntVol'][Results['SurfaceIntVol'] < threshold] = 0"
   ]
  },
  {
   "cell_type": "code",
   "execution_count": null,
   "id": "ddaead50-4b2f-4fc8-9741-5ff720c9b88b",
   "metadata": {},
   "outputs": [],
   "source": [
    "# print values for reference\n",
    "print(Results['SurfaceIntVol'].min(), ',', Results['SurfaceIntVol'].max(),',',Results['SurfaceIntVol'].std())"
   ]
  },
  {
   "cell_type": "code",
   "execution_count": null,
   "id": "6609d6ce-cc6b-406a-9c4f-fd8c29eef63b",
   "metadata": {},
   "outputs": [],
   "source": [
    "fig = plt.figure()\n",
    "ax1 = fig.add_subplot(121)\n",
    "ax1.imshow(Results['SurfaceIntVol'], \n",
    "          aspect='auto', \n",
    "          cmap=plt.cm.summer, \n",
    "          interpolation='nearest')\n",
    "ax1.set_title('Total Volume > 3L')\n",
    "ax2 = fig.add_subplot(122)\n",
    "ax2.imshow(data[:, ...].sum(axis=0), \n",
    "          aspect='auto', \n",
    "          cmap=plt.cm.summer, \n",
    "          interpolation='nearest')\n",
    "ax2.set_title('Total Volume > 0L')"
   ]
  },
  {
   "cell_type": "markdown",
   "id": "666ae9b1-78c7-4c65-bd4b-2c85e938e6eb",
   "metadata": {},
   "source": [
    "### sort values by oil type for multiple runs"
   ]
  },
  {
   "cell_type": "code",
   "execution_count": null,
   "id": "430008c3-1833-426d-b172-9f3a015128cc",
   "metadata": {},
   "outputs": [],
   "source": [
    "# test arrays\n",
    "a1 = np.array([[1, 2],[3, 4]])\n",
    "b1 = np.array([[4, 3],[2, 1]])\n",
    "max_ab = np.maximum(a1,b1)"
   ]
  },
  {
   "cell_type": "code",
   "execution_count": null,
   "id": "2e09b415-7e1e-45a0-adc8-3e832b0ea57d",
   "metadata": {},
   "outputs": [],
   "source": [
    "max_ab"
   ]
  },
  {
   "cell_type": "code",
   "execution_count": null,
   "id": "578ddcc0-d4a8-4241-a6f1-304bbf2bcb10",
   "metadata": {},
   "outputs": [],
   "source": [
    "sum_ab = a1+b1"
   ]
  },
  {
   "cell_type": "code",
   "execution_count": null,
   "id": "250b1a88-6dd4-4357-803f-1348bc76a48a",
   "metadata": {},
   "outputs": [],
   "source": [
    "sum_ab"
   ]
  },
  {
   "cell_type": "markdown",
   "id": "2ffb2adc-36c2-4ebe-9ded-bea5985fb0a3",
   "metadata": {},
   "source": [
    "### now fabricate scenario of combining values from multiple runs within oil types"
   ]
  },
  {
   "cell_type": "code",
   "execution_count": null,
   "id": "1de03d1d-c7d9-4d0b-b004-682ad6af0f30",
   "metadata": {},
   "outputs": [],
   "source": [
    "# create dictionary to map oil-type to index number\n",
    "oil_index = {'diesel':0,\n",
    "            'ans':1,\n",
    "            'bunker':2,\n",
    "            'dilbit':3,\n",
    "            'all':4\n",
    "            }"
   ]
  },
  {
   "cell_type": "code",
   "execution_count": null,
   "id": "b73c9a7b-cb7c-4a4c-b2e8-67515b22f3b1",
   "metadata": {},
   "outputs": [],
   "source": [
    "oil_index['ans']"
   ]
  },
  {
   "cell_type": "code",
   "execution_count": null,
   "id": "d795a65e-7db1-4a23-b0ca-a6ea312f02b9",
   "metadata": {},
   "outputs": [],
   "source": [
    "# pre-define file and oil-type to one case\n",
    "input_dir = '/scratch/dlatorne/MIDOSS/runs/monte-carlo/near-BP_20th-100_2021-09-30T145454/results/near-BP_20th-100-65'\n",
    "input_file = input_dir + '/Lagrangian_diesel-65_near-BP_20th-100-65.nc'\n",
    "oiltype = glob(f'{input_dir}/Lagrangian*')[0].split('/')[-1].split('_')[1].split('-')[0]\n",
    "nruns=2\n",
    "Results = {}\n",
    "Results['SurfaceIntVol'] = np.zeros((nruns,ny,nx))\n",
    "Results['OilType'] = []\n",
    "\n",
    "for run in range(nruns):\n",
    "    print(run)\n",
    "    with xr.open_dataset(input_file) as ds:\n",
    "        data = ds.OilWaterColumnOilVol_3D.isel(slc).values\n",
    "        Results['OilType'].append(oiltype)\n",
    "        Results['SurfaceIntVol'][run,:,:]=data[:, ...].sum(axis=0)\n"
   ]
  },
  {
   "cell_type": "code",
   "execution_count": null,
   "id": "c5328817-137f-4e97-92f3-ad91efaf6894",
   "metadata": {},
   "outputs": [],
   "source": [
    "Results['SurfaceIntVol'].shape"
   ]
  },
  {
   "cell_type": "code",
   "execution_count": null,
   "id": "18662623-9482-4c5d-b1ee-107a8fcf354f",
   "metadata": {},
   "outputs": [],
   "source": [
    "diesel_index = ['diesel' in oil for oil in Results['OilType']]"
   ]
  },
  {
   "cell_type": "code",
   "execution_count": null,
   "id": "a87c83ca-f5f0-447e-bf5b-731873791ed1",
   "metadata": {},
   "outputs": [],
   "source": [
    "diesel_index"
   ]
  },
  {
   "cell_type": "code",
   "execution_count": null,
   "id": "3569719d-2281-4d2b-94fd-853ccfd12185",
   "metadata": {},
   "outputs": [],
   "source": [
    "# Sum results over all diesel cases\n",
    "Results['SurfaceIntVol'][diesel_index,:,:].sum(axis=0)"
   ]
  },
  {
   "cell_type": "code",
   "execution_count": null,
   "id": "21eedef8-b6dd-4348-ab56-3c231159584b",
   "metadata": {},
   "outputs": [],
   "source": [
    "# for the case of all values\n",
    "Results['SurfaceIntVol'].sum(axis=0).shape"
   ]
  },
  {
   "cell_type": "markdown",
   "id": "6ff2fd3e-680a-4d3f-b3d6-d76ccab30067",
   "metadata": {},
   "source": [
    "### Now test over mixed oil types"
   ]
  },
  {
   "cell_type": "code",
   "execution_count": null,
   "id": "e36aae0e-a398-45b0-9f29-7f40186aecd9",
   "metadata": {},
   "outputs": [],
   "source": [
    "nruns"
   ]
  },
  {
   "cell_type": "code",
   "execution_count": null,
   "id": "b9a5d5f8-5338-4088-9e50-43ecea0456e2",
   "metadata": {},
   "outputs": [],
   "source": [
    "%%time\n",
    "oil_types = ['all','diesel','ans','bunker','dilbit']\n",
    "\n",
    "# Define runset lists\n",
    "runsets = [\n",
    "    'near-BP_1st-30',\n",
    "    'near-BP_3rd-200',\n",
    "    'near-BP_4th-100',\n",
    "    'near-BP_5th-100',\n",
    "]\n",
    "\n",
    "timestamps = [\n",
    "    '2021-09-20T144849',\n",
    "    '2021-09-23T140522',\n",
    "    '2021-09-24T125848',\n",
    "    '2021-09-25T154734',\n",
    "]\n",
    "\n",
    "nruns = [30, 500, 200, 100, 100]\n",
    "\n",
    "ss = 3 # run selection\n",
    "runset, timestamp, n = runsets[ss], timestamps[ss], nruns[ss]\n",
    "\n",
    "# Collect individual runs across all run sets\n",
    "Results = {'RunId': [], 'Date': [], 'OilType': [],'Path': [],\n",
    "       'SurfaceMaxVol': np.zeros((len(oil_types),n,ny,nx)),\n",
    "       'SurfaceIntVol': np.zeros((len(oil_types),n,ny,nx)),\n",
    "       'Beaching_Time': np.zeros((len(oil_types),n,ny,nx)),\n",
    "       'Beaching_Volume': np.zeros((len(oil_types),n,ny,nx))\n",
    "}\n",
    "incomplete_runs = []"
   ]
  },
  {
   "cell_type": "code",
   "execution_count": null,
   "id": "adf7daa5-423d-401e-9f09-c261c25fa214",
   "metadata": {},
   "outputs": [],
   "source": [
    "# Define output file names\n",
    "output_nc = netcdf_dir / f'MIDOSS_aggregated_{runset}-{timestamp}_{np.sum(nruns)}.nc'\n",
    "output_readme = netcdf_dir / f'MIDOSS_aggregated_{runset}-{timestamp}_{np.sum(nruns)}.csv'\n",
    "for run in range(min(50,n)):\n",
    "    # Construct path and load into Xarray Dataset\n",
    "    runpath = f'{results_dir}/{runset}_{timestamp}/results/{runset}-{run}'\n",
    "    if os.path.isdir(runpath):\n",
    "        oiltype = glob(f'{runpath}/Lagrangian*')[0].split('/')[-1].split('_')[1].split('-')[0]\n",
    "        fn = f'{runpath}/Lagrangian_{oiltype}-{run}_{runset}-{run}.nc'\n",
    "        print(f'Lagrangian_{oiltype}-{run}_{runset}-{run}.nc')\n",
    "\n",
    "        # store path in list to write for readme file accompanament to .netcdf\n",
    "        Results['Path'].append(fn)\n",
    "        \n",
    "        # with xr.open_dataset(fn) as ds:   \n",
    "        #     data = ds.OilWaterColumnOilVol_3D.isel(slc).values  # result dims: time, y-dim, x-dim.  Where is depth?\n",
    "        #     # Append results to lists\n",
    "        #     Results['Date'].append(ds.time[0].values.astype('datetime64[s]').astype(datetime))\n",
    "        #     Results['OilType'].append(oiltype)\n",
    "        #     Results['SurfaceMaxVol'].append(data[:, ...].max(axis=0))\n",
    "        #     Results['SurfaceIntVol'].append(data[:, ...].sum(axis=0))\n",
    "        #     # Susan's version used slc here, where I have to use slc2D.  Perhaps b/c of using h5netcdf?\n",
    "        #     Results['Beaching_Time'].append(ds.Beaching_Time.values -ds.Beaching_Time.values.min())\n",
    "        #     Results['Beaching_Volume'].append(ds.Beaching_Volume.values)\n",
    "        #     ds.close()\n",
    "    else:\n",
    "        incomplete_runs.append(f'{runset}-{run}')\n",
    "\n",
    "# Write list of missing runs to file, if they exist for this run grouping\n",
    "if(incomplete_runs):\n",
    "    textfile = open(output_dir / f'{runset}_incomplete_runs.csv', \"w\")\n",
    "    for element in incomplete_runs:\n",
    "        textfile.write(element + \"\\n\")\n",
    "    textfile.close()\n",
    "\n"
   ]
  },
  {
   "cell_type": "code",
   "execution_count": null,
   "id": "88af31f1-826d-4587-8a00-108ee7c0b70f",
   "metadata": {},
   "outputs": [],
   "source": [
    "# Write monte-carlo results to netcdf\n",
    "ds = xr.Dataset({\n",
    "        'OilWaterColumnOilVol_SurfaceMaxVol': (['RunId', 'y', 'x'], np.array(Results['SurfaceMaxVol'])),\n",
    "        'OilWaterColumnOilVol_SurfaceIntVol': (['RunId', 'y', 'x'], np.array(Results['SurfaceIntVol'])),\n",
    "        'Beaching_Time': (['RunId', 'y', 'x'], np.array(Results['Beaching_Time'])),\n",
    "        'Beaching_Volume': (['RunId', 'y', 'x'], np.array(Results['Beaching_Volume'])),\n",
    "        'OilType': ('RunId', np.array(Results['OilType'])),\n",
    "    },\n",
    "    coords={'RunId': np.array(Results['RunId']), 'z': z, 'y': y, 'x': x},\n",
    ")\n",
    "# Save output to netcdf\n",
    "ds.to_netcdf(output_nc, engine='h5netcdf')\n",
    "# Save output file paths to .csv as a supplementary reference doc\n",
    "path_df = pd.DataFrame(Results['Path'])\n",
    "path_df.to_csv(output_readme, index=False, header=False)"
   ]
  }
 ],
 "metadata": {
  "kernelspec": {
   "display_name": "Python 3 (ipykernel)",
   "language": "python",
   "name": "python3"
  },
  "language_info": {
   "codemirror_mode": {
    "name": "ipython",
    "version": 3
   },
   "file_extension": ".py",
   "mimetype": "text/x-python",
   "name": "python",
   "nbconvert_exporter": "python",
   "pygments_lexer": "ipython3",
   "version": "3.8.2"
  }
 },
 "nbformat": 4,
 "nbformat_minor": 5
}
