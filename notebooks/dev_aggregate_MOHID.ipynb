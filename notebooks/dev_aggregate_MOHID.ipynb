{
 "cells": [
  {
   "cell_type": "markdown",
   "id": "7770b621-f2fb-4397-a456-96bad4cd3566",
   "metadata": {},
   "source": [
    "# This is a development notebook for the function aggregate_surface"
   ]
  },
  {
   "cell_type": "code",
   "execution_count": 1,
   "id": "97a7eefa-6211-4774-b0d0-800827ebcb50",
   "metadata": {},
   "outputs": [],
   "source": [
    "import numpy as np\n",
    "import pandas as pd\n",
    "import os\n",
    "import pathlib\n",
    "import xarray as xr\n",
    "import sys\n",
    "from matplotlib import pyplot as plt, cm, colors\n",
    "from cmocean import cm as cmo\n",
    "from datetime import datetime\n",
    "from glob import glob\n",
    "import yaml\n",
    "#from tqdm.notebook import tqdm\n",
    "sys.path.insert(\n",
    "    0, \n",
    "    '/home/rmueller/projects/def-allen/rmueller/MIDOSS/Visualization/scripts'\n",
    ")\n",
    "from viz_MOHID_tools import get_MOHID_netcdf_filenames, aggregate_MOHID\n",
    "\n",
    "%matplotlib inline\n",
    "plt.rcParams.update({'font.size': 12, 'axes.titlesize': 12})"
   ]
  },
  {
   "cell_type": "code",
   "execution_count": 2,
   "id": "a4d18b84-6804-4d33-8307-c92913101ed4",
   "metadata": {},
   "outputs": [],
   "source": [
    "# Results path\n",
    "results_dir = '/scratch/dlatorne/MIDOSS/runs/monte-carlo'\n",
    "# location of yaml file with runs dictionary sorted into oil types\n",
    "yaml_dir = pathlib.Path(\n",
    "    '/home/rmueller/projects/def-allen/rmueller/MIDOSS/Visualization'\n",
    ")\n",
    "# location to store aggregated netcdf\n",
    "netcdf_dir = pathlib.Path(f'/scratch/rmueller/MIDOSS/Results') \n",
    "\n",
    "# NEMO meshmask\n",
    "mask = xr.open_dataset(\n",
    "    '/project/def-allen/rmueller/MEOPAR/grid/mesh_mask201702.nc'\n",
    ")\n",
    "\n",
    "oil_types = [\n",
    "    'akns', \n",
    "    'bunker', \n",
    "    'dilbit', \n",
    "    'jet', \n",
    "    'diesel', \n",
    "    'gas', \n",
    "    'other'\n",
    "]\n",
    "\n",
    "# Specify surface level for depth slice\n",
    "zlevel = 39\n",
    "slc = {'grid_z': zlevel}\n",
    "#slc2D = {'grid_y': slice(jmin, jmax), 'grid_x': slice(imin, imax)}"
   ]
  },
  {
   "cell_type": "code",
   "execution_count": 3,
   "id": "504a6750-28a4-45b4-9047-c31da725d0f7",
   "metadata": {},
   "outputs": [],
   "source": [
    "# %%time\n",
    "# output_dir = '/home/rmueller/projects/def-allen/rmueller/MIDOSS/Visualization'\n",
    "# files = get_MOHID_netcdf_filenames(results_dir, yaml_dir)\n",
    "\n",
    "# This took 13 seconds to run "
   ]
  },
  {
   "cell_type": "markdown",
   "id": "28d516cc-a1a8-4080-ab0a-618b3302cb4d",
   "metadata": {},
   "source": [
    "## Global variables"
   ]
  },
  {
   "cell_type": "code",
   "execution_count": 4,
   "id": "bba819db-7867-43c3-a692-7d71eac73ffc",
   "metadata": {},
   "outputs": [],
   "source": [
    "# get dimensions\n",
    "nruns = 5\n",
    "ny,nx = 896, 396\n",
    "# set dimensions for netcdf output\n",
    "x, y = np.arange(0,nx), np.arange(0,ny)\n",
    "# create threshold for surface volume in m3\n",
    "surface_threshold = 3e-3\n",
    "beach_threshold = 15e-3\n",
    "Files=[]"
   ]
  },
  {
   "cell_type": "markdown",
   "id": "3975233a-3e17-464a-aabb-153c6cf6bf23",
   "metadata": {},
   "source": [
    "### Call function for ANS"
   ]
  },
  {
   "cell_type": "code",
   "execution_count": 5,
   "id": "7dbe9424-24e3-48cb-9707-5a0494c6ed25",
   "metadata": {},
   "outputs": [
    {
     "name": "stdout",
     "output_type": "stream",
     "text": [
      "CPU times: user 3.03 s, sys: 28.1 ms, total: 3.06 s\n",
      "Wall time: 3.2 s\n"
     ]
    }
   ],
   "source": [
    "%%time\n",
    "filenames_yaml = yaml_dir / 'MOHID_results_locations_07102021_15:52:22.yaml'\n",
    "with filenames_yaml.open(\"rt\") as f:\n",
    "    run_paths = yaml.safe_load(f)"
   ]
  },
  {
   "cell_type": "code",
   "execution_count": 6,
   "id": "0b6f0942-3548-40fa-babc-df6302837b47",
   "metadata": {},
   "outputs": [
    {
     "name": "stdout",
     "output_type": "stream",
     "text": [
      "akns: 53 completed runs\n",
      "bunker: 2498 completed runs\n",
      "dilbit: 1 completed runs\n",
      "jet: 20 completed runs\n",
      "diesel: 4268 completed runs\n",
      "gas: 57 completed runs\n",
      "other: 52 completed runs\n"
     ]
    }
   ],
   "source": [
    "for oil in oil_types:\n",
    "    print(f'{oil}: {len(run_paths[oil])} completed runs')"
   ]
  },
  {
   "cell_type": "code",
   "execution_count": 7,
   "id": "d45207a0-db67-4029-822f-575f5300960c",
   "metadata": {},
   "outputs": [
    {
     "name": "stdout",
     "output_type": "stream",
     "text": [
      "CPU times: user 16.6 s, sys: 4.66 s, total: 21.3 s\n",
      "Wall time: 29.7 s\n"
     ]
    }
   ],
   "source": [
    "%%time\n",
    "#------------------------------------------------------------\n",
    "# \"oil\" will eventually be assigned in for-loop\n",
    "oil = 'akns'\n",
    "#------------------------------------------------------------\n",
    "# This will become 100 or more\n",
    "nruns = len(run_paths[oil])\n",
    "#------------------------------------------------------------\n",
    "# group number will be assigned by the N groups of files \n",
    "# created by dividing the total runs in each oil type by the \n",
    "# \"nruns\" processed here\n",
    "group = 1\n",
    "#------------------------------------------------------------\n",
    "# define output netcdf name\n",
    "aggregated_netcdf = netcdf_dir / f'{oil}_runset{group}.nc'\n",
    "#------------------------------------------------------------\n",
    "# loop through and aggregate nruns in oil type\n",
    "# this code will need to be updated when loop through groups is \n",
    "# introduced\n",
    "\n",
    "mohid_in, agg_out, files = aggregate_MOHID(\n",
    "    run_paths[oil], \n",
    "    surface_threshold=3e-3, \n",
    "    beach_threshold=15e-3)"
   ]
  },
  {
   "cell_type": "code",
   "execution_count": 8,
   "id": "6791c196-c325-4185-9427-c5205f7d7e80",
   "metadata": {},
   "outputs": [
    {
     "data": {
      "text/plain": [
       "51"
      ]
     },
     "execution_count": 8,
     "metadata": {},
     "output_type": "execute_result"
    }
   ],
   "source": [
    "len(files)"
   ]
  },
  {
   "cell_type": "code",
   "execution_count": 11,
   "id": "f4c7f370-1da7-4df2-8db2-c70f9fbb835d",
   "metadata": {},
   "outputs": [],
   "source": [
    "# Save output to netcdf\n",
    "agg_out.to_netcdf(aggregated_netcdf, engine='h5netcdf')\n",
    "mohid_in.to_netcdf(netcdf_dir / f'{oil}_runset{group}_AllResults.nc', engine='h5netcdf')"
   ]
  },
  {
   "cell_type": "markdown",
   "id": "47f2e8d2-5cb4-482b-9a5e-1f13be4e1dd6",
   "metadata": {
    "tags": []
   },
   "source": [
    "### Evaluate aggregation "
   ]
  },
  {
   "cell_type": "code",
   "execution_count": 13,
   "id": "2f8144fc-9cfc-40d7-a89e-1d71561ca852",
   "metadata": {},
   "outputs": [
    {
     "name": "stdout",
     "output_type": "stream",
     "text": [
      "MinBeachTime: Min(0.0), Max(58.0)\n",
      "TotalBeachVolume: Min(0.0), Max(20409.271299428714)\n",
      "BeachPresence: Min(0), Max(17)\n",
      "BeachPresence_one: Min(0), Max(4)\n",
      "BeachPresence_three: Min(0), Max(7)\n",
      "BeachPresence_seven: Min(0), Max(17)\n"
     ]
    }
   ],
   "source": [
    "for idx,variable in enumerate([*agg_out]):\n",
    "    print(f'{variable}: Min({agg_out[variable].min().item()}), Max({agg_out[variable].max().item()})')"
   ]
  },
  {
   "cell_type": "code",
   "execution_count": 14,
   "id": "701713b3-7b25-42f1-bae7-83b07925e880",
   "metadata": {},
   "outputs": [
    {
     "data": {
      "image/png": "[encoded data removed]",
      "text/plain": [
       "<Figure size 1152x576 with 12 Axes>"
      ]
     },
     "metadata": {
      "needs_background": "light"
     },
     "output_type": "display_data"
    }
   ],
   "source": [
    "fig, axs = plt.subplots(1, 6, figsize=(16, 8), gridspec_kw={'wspace': 0.6, 'hspace': 0.4})\n",
    "for idx,variable in enumerate([*agg_out]):\n",
    "    agg_out[variable].where(agg_out[variable]>0,np.nan).plot(\n",
    "        ax=axs[idx],\n",
    "        cbar_kwargs={'orientation':'horizontal','spacing': 'proportional'}\n",
    "    )\n",
    "    axs[idx].set_xlabel('')\n",
    "    axs[idx].set_ylabel('')"
   ]
  },
  {
   "cell_type": "code",
   "execution_count": 23,
   "id": "22c5b76e-1fb7-4380-91c7-9bd6654aad74",
   "metadata": {},
   "outputs": [
    {
     "name": "stdout",
     "output_type": "stream",
     "text": [
      "MinBeachTime: Mean(8.77e-04), Median(0.00e+00), Max(5.80e+01)\n"
     ]
    }
   ],
   "source": [
    "print(f'MinBeachTime: Mean({agg_out.MinBeachTime.mean().item():.2e}), Median({agg_out.MinBeachTime.median().item():.2e}), Max({agg_out.MinBeachTime.max().item():.2e})')"
   ]
  },
  {
   "cell_type": "markdown",
   "id": "b729e04e-88bc-4e03-bc33-4020175a02e9",
   "metadata": {},
   "source": [
    "# It gets dicey after this point"
   ]
  },
  {
   "cell_type": "markdown",
   "id": "7e069298-877b-4228-abac-f421b11d81fc",
   "metadata": {},
   "source": [
    "### Still remaining: \n",
    "- i,j \"surface oil presence\" indexing for each run to use for water column calcs\n",
    "- surface presence by timing < 1 day, < 3 days, < 7 days\n",
    "- yaml file with \"processed runs\" listed (by oil type and \"all\") to document which runs have been aggregated.  This file will be used together with \"filenames_yaml\" to identify which runs still need to be \"processed\""
   ]
  },
  {
   "cell_type": "code",
   "execution_count": null,
   "id": "c74d640d-3dbe-4788-af2f-aac132c43f15",
   "metadata": {},
   "outputs": [],
   "source": [
    "a = [True, False]\n",
    "b = [True, True]\n",
    "print('max(a,b):', max(a, b))\n",
    "print('min(a,b):', min(a, b))"
   ]
  },
  {
   "cell_type": "code",
   "execution_count": null,
   "id": "e69e85d4-9e92-4278-920c-cc9e811d2146",
   "metadata": {},
   "outputs": [],
   "source": [
    "np.array(a).astype(int)"
   ]
  },
  {
   "cell_type": "markdown",
   "id": "152c94b2-9873-47e4-a812-f9c2a1eb9a04",
   "metadata": {},
   "source": [
    "### Create xarrays for aggregating beaching presence"
   ]
  },
  {
   "cell_type": "markdown",
   "id": "09bdebcb-bfb5-434c-995f-1366fbf3e3a6",
   "metadata": {},
   "source": [
    "### Define output xarrays"
   ]
  },
  {
   "cell_type": "code",
   "execution_count": null,
   "id": "0187c2f8-2645-4793-9e1f-d893b7250b1b",
   "metadata": {},
   "outputs": [],
   "source": [
    "dims = ('nspills','grid_y','grid_x')\n",
    "MOHID_In = xr.Dataset(\n",
    "    data_vars = dict(\n",
    "        BeachTime=(dims, np.zeros((nruns,ny,nx))),\n",
    "        BeachVolume=(dims, np.zeros((nruns,ny,nx),dtype=float)),\n",
    "        BeachPresence=(dims, np.zeros((nruns,ny,nx),dtype=int)),\n",
    "        BeachPresence_one=(dims, np.zeros((nruns,ny,nx),dtype=int)),\n",
    "        BeachPresence_three=(dims, np.zeros((nruns,ny,nx),dtype=int)),\n",
    "        BeachPresence_seven=(dims, np.zeros((nruns,ny,nx),dtype=int))),\n",
    "    coords=dict(\n",
    "        grid_y=range(ny),\n",
    "        grid_x=range(nx))\n",
    ")\n",
    "\n",
    "dims = ('grid_y','grid_x')\n",
    "Aggregate_Out = xr.Dataset(\n",
    "    data_vars = dict(\n",
    "        MinBeachTime=(dims, np.zeros((ny,nx)),{\"units\":\"hours\"}), #An experiment with attributing variables\n",
    "        TotalBeachVolume=(dims, np.zeros((ny,nx),dtype=float)),\n",
    "        BeachPresence=(dims, np.zeros((ny,nx),dtype=int)),\n",
    "        BeachPresence_one=(dims, np.zeros((ny,nx),dtype=int)),\n",
    "        BeachPresence_three=(dims, np.zeros((ny,nx),dtype=int)),\n",
    "        BeachPresence_seven=(dims, np.zeros((ny,nx),dtype=int))), \n",
    "    coords=dict(\n",
    "        grid_y=range(ny),\n",
    "        grid_x=range(nx)), \n",
    "    attrs=dict(\n",
    "        MinBeachTime_units = \"hours\",\n",
    "        MinBeachTime=\"Earliest, non-zero beaching arrival time at locations where beached oil is above BeachVolume_threshold\",\n",
    "        TotalBeachVolume=\"Total volume beached over all runs where volume>BeachVolume_threshold in any given, individual run\",\n",
    "        TotalBeachVolume_units=\"meters-cubed\",\n",
    "        BeachVolume_threshold=beach_threshold,\n",
    "        BeachVolume_threshold_units=\"meters-cubed\",\n",
    "        BeachPresence=\"Mask[0,1] where 1 indicates oil presence above BeachVolume_threshold\",\n",
    "        BeachPresence_one=\"Mask[0,1] where 1 indicates oil presence above BeachVolume_threshold and within the first 24 hours of spill\",\n",
    "        BeachPresence_three=\"Mask[0,1] where 1 indicates oil presence above BeachVolume_threshold and within the first 72 hours of spill\",\n",
    "        BeachPresence_seven=\"Mask[0,1] where 1 indicates oil presence above BeachVolume_threshold and within the first 168 hours of spill\",\n",
    "\n",
    "    )\n",
    ")"
   ]
  },
  {
   "cell_type": "code",
   "execution_count": null,
   "id": "2639b261-159d-41e4-b3d8-6eaeac6b9ec7",
   "metadata": {},
   "outputs": [],
   "source": [
    "Aggregate_Out.items()"
   ]
  },
  {
   "cell_type": "code",
   "execution_count": null,
   "id": "38cf3441-0ae7-40d0-abbc-7c1e79457a97",
   "metadata": {},
   "outputs": [],
   "source": [
    "# define time thresholds\n",
    "one_day = np.timedelta64(24,'h')\n",
    "three_days = np.timedelta64(48,'h')\n",
    "seven_days = np.timedelta64(168,'h')\n",
    "\n",
    "# loop through runs and aggregate beaching information\n",
    "for run in range(nruns):\n",
    "    input_file = fn[oil][run]\n",
    "    Files.append(input_file)\n",
    "    with xr.open_dataset(input_file) as ds:\n",
    "        dt = ds.Beaching_Time-ds.Beaching_Time.min()\n",
    "        # Beaching time (converted from ns to hours)\n",
    "        MOHID_In.BeachTime[run,:,:]=dt*1e-9/3600\n",
    "        # Set time to zero where volume is below threshold \n",
    "        MOHID_In['BeachTime'] = MOHID_In.BeachTime.where(\n",
    "            ds.Beaching_Volume>beach_threshold,\n",
    "            0 #if above is false\n",
    "        )\n",
    "        # Set all null values to 1 billion hours to get earliest arrival time\n",
    "        MOHID_In['BeachTime'] = MOHID_In.BeachTime.where(\n",
    "            MOHID_In.BeachTime>0,\n",
    "            1e9\n",
    "        )\n",
    "        # Save volume over threshold \n",
    "        MOHID_In.BeachVolume[run,:,:] = ds.Beaching_Volume.where(\n",
    "            ds.Beaching_Volume>beach_threshold,\n",
    "            0\n",
    "        )\n",
    "        # Beaching presence masks\n",
    "        dtmask = xr.DataArray(\n",
    "            data=np.ones_like(ds.Beaching_Time, dtype=int),\n",
    "            coords=ds.Beaching_Time.coords,\n",
    "            dims=ds.Beaching_Time.dims,\n",
    "        )       \n",
    "        # Presence above threshold\n",
    "        MOHID_In.BeachPresence[run,:,:] = dtmask.where(\n",
    "            ds.Beaching_Volume>beach_threshold, \n",
    "            0\n",
    "        )\n",
    "        MOHID_In.BeachPresence_one[run,:,:] = dtmask.where(\n",
    "            np.logical_and(ds.Beaching_Volume>beach_threshold, dt<=one_day), \n",
    "            0\n",
    "        )  \n",
    "        MOHID_In.BeachPresence_three[run,:,:] = dtmask.where(\n",
    "            np.logical_and(ds.Beaching_Volume>beach_threshold, dt<=three_days), \n",
    "            0\n",
    "        )\n",
    "        MOHID_In.BeachPresence_seven[run,:,:] = dtmask.where(\n",
    "            np.logical_and(ds.Beaching_Volume>beach_threshold, dt<=seven_days), \n",
    "            0\n",
    "        )"
   ]
  },
  {
   "cell_type": "code",
   "execution_count": null,
   "id": "be13d929-fd65-4746-a7ff-2ee8e59dfc8d",
   "metadata": {},
   "outputs": [],
   "source": [
    "Aggregate_Out['MinBeachTime'] = MOHID_In['BeachTime'].min(dim='nspills')\n",
    "Aggregate_Out['MinBeachTime'] = Aggregate_Out.MinBeachTime.where(\n",
    "    Aggregate_Out.MinBeachTime<1e9,\n",
    "    0\n",
    ")\n",
    "Aggregate_Out['TotalBeachVolume'] = MOHID_In['BeachVolume'].sum(dim='nspills')\n",
    "Aggregate_Out['BeachPresence'] = MOHID_In['BeachPresence'].sum(dim='nspills')\n",
    "Aggregate_Out['BeachPresence_one'] = MOHID_In['BeachPresence_one'].sum(dim='nspills')\n",
    "Aggregate_Out['BeachPresence_three'] = MOHID_In['BeachPresence_three'].sum(dim='nspills')\n",
    "Aggregate_Out['BeachPresence_seven'] = MOHID_In['BeachPresence_seven'].sum(dim='nspills')"
   ]
  },
  {
   "cell_type": "code",
   "execution_count": null,
   "id": "047c04bc-644f-4071-ada2-ca4f3e1e91aa",
   "metadata": {},
   "outputs": [],
   "source": [
    "Aggregate_Out['MinBeachTime'].plot()"
   ]
  },
  {
   "cell_type": "code",
   "execution_count": null,
   "id": "51daeeca-7dfe-44fd-bdc8-7d9e81c501bf",
   "metadata": {},
   "outputs": [],
   "source": [
    "for idx in range(nruns):\n",
    "    print(MOHID_In.BeachPresence_seven[idx,:,:].sum().sum().item())"
   ]
  },
  {
   "cell_type": "code",
   "execution_count": null,
   "id": "8ba09de9-08f8-46a3-afc4-f224a8faf2a8",
   "metadata": {},
   "outputs": [],
   "source": [
    "MOHID_In.BeachPresence_seven[idx,:,:].plot()"
   ]
  },
  {
   "cell_type": "code",
   "execution_count": null,
   "id": "66b3130a-979d-481a-ae8f-a394067f0dcf",
   "metadata": {},
   "outputs": [],
   "source": [
    "MOHID_In.BeachPresence_seven"
   ]
  },
  {
   "cell_type": "code",
   "execution_count": null,
   "id": "9e68ba7f-92ac-474d-95a8-60c8284c0609",
   "metadata": {},
   "outputs": [],
   "source": [
    "# Save output to netcdf\n",
    "Aggregate_Out.to_netcdf(netcdf_dir / 'test.nc', engine='h5netcdf')"
   ]
  },
  {
   "cell_type": "markdown",
   "id": "ae315b2f-9787-449a-9b7d-9a4fb637426d",
   "metadata": {
    "tags": []
   },
   "source": [
    "## read in the created netcdf to check format"
   ]
  },
  {
   "cell_type": "code",
   "execution_count": null,
   "id": "77004d16-3cbb-4724-8a5e-a03127b8fc85",
   "metadata": {},
   "outputs": [],
   "source": [
    "test_nc = xr.open_dataset(netcdf_dir / 'test.nc')"
   ]
  },
  {
   "cell_type": "code",
   "execution_count": null,
   "id": "8b029e57-b1fd-4758-a0d6-736fa79ca60a",
   "metadata": {},
   "outputs": [],
   "source": [
    "test_nc"
   ]
  },
  {
   "cell_type": "code",
   "execution_count": null,
   "id": "c759d275-f758-4568-a9df-b470bfd0ea12",
   "metadata": {},
   "outputs": [],
   "source": [
    "[*test_nc]"
   ]
  },
  {
   "cell_type": "code",
   "execution_count": null,
   "id": "06f3b461-7278-4e37-9679-0c7058f6c83c",
   "metadata": {},
   "outputs": [],
   "source": [
    "for idx,variable in enumerate([*test_nc]):\n",
    "    print(f'{variable}: Min({test_nc[variable].min().item()}), Max({test_nc[variable].max().item()})')"
   ]
  },
  {
   "cell_type": "code",
   "execution_count": null,
   "id": "e03ca2ed-002f-4aad-ae0e-a15ce621b30f",
   "metadata": {},
   "outputs": [],
   "source": [
    "fig, axs = plt.subplots(1, 6, figsize=(16, 8), gridspec_kw={'wspace': 0.6, 'hspace': 0.4})\n",
    "for idx,variable in enumerate([*test_nc]):\n",
    "    test_nc[variable].where(test_nc[variable]>0,np.nan).plot(\n",
    "        ax=axs[idx],\n",
    "        cbar_kwargs={'orientation':'horizontal','spacing': 'proportional'}\n",
    "    )\n",
    "    axs[idx].set_xlabel('')\n",
    "    axs[idx].set_ylabel('')"
   ]
  },
  {
   "cell_type": "markdown",
   "id": "bb008876-147e-428a-8892-cda8b7187c50",
   "metadata": {},
   "source": [
    "### Previous iteration "
   ]
  },
  {
   "cell_type": "code",
   "execution_count": null,
   "id": "2ad91211-9357-4233-8bc8-e3197f1f80b9",
   "metadata": {},
   "outputs": [],
   "source": [
    "dims = ('nspills','grid_y','grid_x')\n",
    "Results['BeachTime'] = xr.Dataset(\n",
    "    data_vars = dict(BeachTime=(dims, np.zeros((nruns,ny,nx)))),\n",
    "    coords=dict(grid_y=range(ny),grid_x=range(nx))\n",
    ")\n",
    "Results['BeachVolume'] = xr.Dataset(\n",
    "    data_vars = dict(BeachVolume=(dims, np.zeros((nruns,ny,nx)))),\n",
    "    coords=dict(grid_y=range(ny),grid_x=range(nx))\n",
    ").astype('float')\n",
    "Results['BeachPresence'] = xr.Dataset(\n",
    "    data_vars = dict(BeachPresence=(dims, np.zeros((nruns,ny,nx)))),\n",
    "    coords=dict(grid_y=range(ny),grid_x=range(nx))\n",
    ").astype('int')\n",
    "Results['BeachPresence_one'] = xr.Dataset(\n",
    "    data_vars = dict(BeachPresence_one=(dims, np.zeros((nruns,ny,nx)))),\n",
    "    coords=dict(grid_y=range(ny), grid_x=range(nx))\n",
    ").astype('int')\n",
    "Results['BeachPresence_three'] = xr.Dataset(\n",
    "    data_vars = dict(BeachPresence_three=(dims, np.zeros((nruns,ny,nx)))),\n",
    "    coords=dict(grid_y=range(ny), grid_x=range(nx))\n",
    ").astype('int')\n",
    "Results['BeachPresence_seven'] = xr.Dataset(\n",
    "    data_vars = dict(BeachPresence_seven=(dims, np.zeros((nruns,ny,nx)))),\n",
    "    coords=dict(grid_y=range(ny), grid_x=range(nx))\n",
    ").astype('int')"
   ]
  },
  {
   "cell_type": "code",
   "execution_count": null,
   "id": "2919714f-ee12-4d9b-b687-33c53063c887",
   "metadata": {},
   "outputs": [],
   "source": [
    "dims = ('grid_y','grid_x')\n",
    "Out['MinBeachTime'] = xr.Dataset(\n",
    "    data_vars = dict(BeachTime=(dims, np.zeros((ny,nx)))),\n",
    "    coords=dict(\n",
    "        grid_y=range(ny),\n",
    "        grid_x=range(nx)), \n",
    "    attrs=dict(\n",
    "        BeachTime_units_=\"hours\",\n",
    "        MinBeachTime_description_=\"Earliest, non-zero beaching arrival time where beached oil is above threshold [liters/grid]\",\n",
    "        MinBeachTime_threshold=beach_threshold\n",
    "    )\n",
    ")\n",
    "Out['BeachVolume'] = xr.Dataset(\n",
    "    data_vars = dict(BeachVolume=(dims, np.zeros((ny,nx)))),\n",
    "    coords=dict(\n",
    "        grid_y=range(ny),\n",
    "        grid_x=range(nx)), \n",
    "    attrs=dict(\n",
    "        BeachVolume_description=\"Total volume beached across all runs where volume>threshold in individual run\",\n",
    "        BeachVolume_threshold=beach_threshold\n",
    "    )\n",
    ").astype('float')\n",
    "\n",
    "Out['BeachPresence'] = xr.Dataset(\n",
    "    data_vars = dict(BeachPresence=(dims, np.zeros((ny,nx)))),\n",
    "    coords=dict(\n",
    "        grid_y=range(ny),\n",
    "        grid_x=range(nx)), \n",
    "    attrs=dict(\n",
    "        BeachPresence_description=\"Mask[0,1] where 1 indicates oil presence above threshold [liters/grid] and 0 indicates no oil or oil below threshold\",\n",
    "        BeachPresence_threshold=beach_threshold\n",
    "    )\n",
    ").astype('int')\n",
    "\n",
    "Out['BeachPresence_one'] = xr.Dataset(\n",
    "    data_vars = dict(BeachPresence_one=(dims, np.zeros((ny,nx)))),\n",
    "    coords=dict(\n",
    "        grid_y=range(ny),\n",
    "        grid_x=range(nx)), \n",
    "    attrs=dict(\n",
    "        BeachPresence_one_description=\"Mask[0,1] where 1 indicates oil presence above threshold [liters/grid] and within the first 24 hours of spill\",\n",
    "    )\n",
    ").astype('int')\n",
    "\n",
    "Out['BeachPresence_three'] = xr.Dataset(\n",
    "    data_vars = dict(BeachPresence_three=(dims, np.zeros((ny,nx)))),\n",
    "    coords=dict(\n",
    "        grid_y=range(ny),\n",
    "        grid_x=range(nx)), \n",
    "    attrs=dict(\n",
    "        BeachPresence_three_description=\"Mask[0,1] where 1 indicates oil presence above threshold [liters/grid] and within first 72 hours of spill\",\n",
    "    )\n",
    ").astype('int')\n",
    "\n",
    "Out['BeachPresence_seven'] = xr.Dataset(\n",
    "    data_vars = dict(BeachPresence_one=(dims, np.zeros((ny,nx)))),\n",
    "    coords=dict(\n",
    "        grid_y=range(ny),\n",
    "        grid_x=range(nx)), \n",
    "    attrs=dict(\n",
    "        BeachPresence_one_description=\"Mask[0,1] where 1 indicates oil presence above threshold [liters/grid] and within first 168 hours of spill\",\n",
    "    )\n",
    ").astype('int')"
   ]
  },
  {
   "cell_type": "code",
   "execution_count": null,
   "id": "fffe2bf3-71eb-46cd-9351-0fc8a7e7ee3e",
   "metadata": {},
   "outputs": [],
   "source": [
    "Out['MinBeachTime']"
   ]
  },
  {
   "cell_type": "code",
   "execution_count": null,
   "id": "ea626cc4-bb46-4553-ad06-4fe6a333d7e5",
   "metadata": {},
   "outputs": [],
   "source": [
    "# define time thresholds\n",
    "one_day = np.timedelta64(24,'h')\n",
    "three_days = np.timedelta64(48,'h')\n",
    "seven_days = np.timedelta64(168,'h')\n",
    "\n",
    "# loop through runs and aggregate beaching information\n",
    "for run in range(nruns):\n",
    "    input_file = fn[oil][run]\n",
    "    Results['Files'].append(input_file)\n",
    "    with xr.open_dataset(input_file) as ds:\n",
    "        dt = ds.Beaching_Time-ds.Beaching_Time.min()\n",
    "        # Beaching time (converted from ns to hours)\n",
    "        Results['BeachTime'].loc[dict(nspills=run)] = dt*1e-9/3600\n",
    "        # Set time to zero where volume is below threshold \n",
    "        Results['BeachTime'].where(\n",
    "            ds.Beaching_Volume>beach_threshold,\n",
    "            0 #if above is false\n",
    "        )\n",
    "        # Set all null values to 1 billion hours to get earliest arrival time\n",
    "        Results['BeachTime'].where(\n",
    "            Results['BeachTime']>0,\n",
    "            1e9\n",
    "        )\n",
    "        # Save volume over threshold \n",
    "        Results['BeachVolume'].loc[dict(nspills=run)] = ds.Beaching_Volume.where(\n",
    "            ds.Beaching_Volume>beach_threshold,\n",
    "            0\n",
    "        )\n",
    "        # Beaching presence masks\n",
    "        dtmask = xr.DataArray(\n",
    "            data=np.ones_like(ds.Beaching_Time, dtype=int),\n",
    "            coords=ds.Beaching_Time.coords,\n",
    "            dims=ds.Beaching_Time.dims,\n",
    "        )       \n",
    "        # Presence above threshold\n",
    "        Results['BeachPresence'].loc[dict(nspills=run)] = dtmask.where(\n",
    "            ds.Beaching_Volume>beach_threshold, \n",
    "            0\n",
    "        )\n",
    "        Results['BeachPresence_one'].loc[dict(nspills=run)] = dtmask.where(\n",
    "            np.logical_and(ds.Beaching_Volume>beach_threshold, dt<=one_day), \n",
    "            0\n",
    "        )  \n",
    "        Results['BeachPresence_three'].loc[dict(nspills=run)] = dtmask.where(\n",
    "            np.logical_and(ds.Beaching_Volume>beach_threshold, dt<=three_days), \n",
    "            0\n",
    "        )\n",
    "        Results['BeachPresence_seven'].loc[dict(nspills=run)] = dtmask.where(\n",
    "            np.logical_and(ds.Beaching_Volume>beach_threshold, dt<=seven_days), \n",
    "            0\n",
    "        )"
   ]
  },
  {
   "cell_type": "code",
   "execution_count": null,
   "id": "c7e74fb5-155d-4f79-b2c9-f5d8d514e8f5",
   "metadata": {},
   "outputs": [],
   "source": [
    "ds.Beaching_Volume.max()"
   ]
  },
  {
   "cell_type": "code",
   "execution_count": null,
   "id": "c283d28f-a8a3-499c-8af1-8f9a2aef1e87",
   "metadata": {},
   "outputs": [],
   "source": [
    "Out['MinBeachTime'] = Results['BeachTime'].min(dim='nspills')\n",
    "Out['BeachVolume'] = Results['BeachVolume'].sum(dim='nspills')\n",
    "Out['BeachPresence'] = Results['BeachPresence'].sum(dim='nspills')\n",
    "Out['BeachPresence_one'] = Results['BeachPresence_one'].sum(dim='nspills')\n",
    "Out['BeachPresence_three'] = Results['BeachPresence_three'].sum(dim='nspills')\n",
    "Out['BeachPresence_seven'] = Results['BeachPresence_seven'].sum(dim='nspills')"
   ]
  },
  {
   "cell_type": "code",
   "execution_count": null,
   "id": "2926b4d7-0a65-40c4-91d1-abb0ae6df1b7",
   "metadata": {},
   "outputs": [],
   "source": [
    "test = ds.Oil_Arrival_Time - ds.Beaching_Time"
   ]
  },
  {
   "cell_type": "code",
   "execution_count": null,
   "id": "8f1f2310-eb68-45e1-9f76-67b8bd8a0a92",
   "metadata": {},
   "outputs": [],
   "source": [
    "test.max()*1e-9/86400"
   ]
  },
  {
   "cell_type": "code",
   "execution_count": null,
   "id": "1220a577-abce-4d68-8424-12f101d85c7d",
   "metadata": {},
   "outputs": [],
   "source": [
    "Results['BeachPresence_seven'].sel(nspills=0).BeachPresence_seven.plot()"
   ]
  },
  {
   "cell_type": "code",
   "execution_count": null,
   "id": "d5654fee-50cc-4c0a-a4ee-62af0940c7e2",
   "metadata": {},
   "outputs": [],
   "source": [
    "Out['BeachPresence'].BeachPresence.plot()"
   ]
  },
  {
   "cell_type": "markdown",
   "id": "3354bf45-ae70-4476-96fe-2e038a172a92",
   "metadata": {},
   "source": [
    "##### This is supposed to have 1.0 where oil is present in the first 24-hours and zero everywhere else"
   ]
  },
  {
   "cell_type": "code",
   "execution_count": null,
   "id": "026fb7ad-26dd-44e4-8654-09911842252b",
   "metadata": {},
   "outputs": [],
   "source": [
    "Results['BeachTime'].sel(nspills=0).BeachTime.plot()"
   ]
  },
  {
   "cell_type": "code",
   "execution_count": null,
   "id": "a65f12a0-8a7e-41f0-a529-598631a82dd5",
   "metadata": {},
   "outputs": [],
   "source": [
    "# Write monte-carlo results to netcdf\n",
    "ds_out = xr.merge([\n",
    "    Out['MinBeachTime'],\n",
    "    Out['BeachVolume'],\n",
    "    Out['BeachPresence'],\n",
    "    Out['BeachPresence_one'],\n",
    "    Out['BeachPresence_three'],\n",
    "    Out['BeachPresence_seven']]\n",
    ")"
   ]
  },
  {
   "cell_type": "code",
   "execution_count": null,
   "id": "e9340ef6-99a2-4480-9f6f-247ea8e9817c",
   "metadata": {},
   "outputs": [],
   "source": [
    "# Save output to netcdf\n",
    "ds_out.to_netcdf(netcdf_dir / 'test.nc', engine='h5netcdf')"
   ]
  },
  {
   "cell_type": "markdown",
   "id": "0f8a21b4-1301-40f6-8e58-eab74a014e80",
   "metadata": {
    "tags": []
   },
   "source": [
    "## read in the created netcdf to check format"
   ]
  },
  {
   "cell_type": "code",
   "execution_count": null,
   "id": "bc5b1cd2-cb9d-4dd2-b27f-acddec6fc456",
   "metadata": {},
   "outputs": [],
   "source": [
    "test_nc = xr.open_dataset(netcdf_dir / 'test.nc')"
   ]
  },
  {
   "cell_type": "code",
   "execution_count": null,
   "id": "f71068e0-13c7-40ad-98c3-be927d93d5a0",
   "metadata": {},
   "outputs": [],
   "source": [
    "test_nc"
   ]
  },
  {
   "cell_type": "markdown",
   "id": "1de09353-a713-49da-8eb2-755db6c4b671",
   "metadata": {},
   "source": [
    "---\n",
    "# Stop here\n",
    "---"
   ]
  },
  {
   "cell_type": "code",
   "execution_count": null,
   "id": "2c8fada6-2d10-4785-8d32-ba18b026be60",
   "metadata": {},
   "outputs": [],
   "source": [
    "dt = ds.Beaching_Time-ds.Beaching_Time.min()\n",
    "dtnp = 0*dt.astype('int')\n",
    "\n",
    "dtnp.where(\n",
    "    (dt == dt.min()), \n",
    "    0\n",
    ")\n",
    "dtnp.where(\n",
    "    (dt > dt.min() + np.timedelta64(24,'h')), \n",
    "    0\n",
    ")\n",
    "dtnp.where(\n",
    "    (dt <= dt.min() + np.timedelta64(24,'h')) & \n",
    "    (dt > dt.min()), \n",
    "    1\n",
    ")"
   ]
  },
  {
   "cell_type": "code",
   "execution_count": null,
   "id": "b0a794f5-d830-46b6-9ba5-acd9f91c128d",
   "metadata": {},
   "outputs": [],
   "source": [
    "dt = ds.Beaching_Time-ds.Beaching_Time.min()\n",
    "dtmask = 0*dt\n",
    "dtmask=dtmask.astype('int')\n",
    "dtmask=dtmask.where(\n",
    "    (dt <= dt.min() + np.timedelta64(24,'h')) & \n",
    "    (dt > dt.min()), \n",
    "    1\n",
    ")"
   ]
  },
  {
   "cell_type": "code",
   "execution_count": null,
   "id": "6ad837a9-126d-404e-8159-f9107b9e6786",
   "metadata": {},
   "outputs": [],
   "source": [
    "dtnp.max()"
   ]
  },
  {
   "cell_type": "code",
   "execution_count": null,
   "id": "655ae573-74e7-493e-acc6-c9fff3b14188",
   "metadata": {},
   "outputs": [],
   "source": [
    "plt.pcolormesh(dtnp)"
   ]
  },
  {
   "cell_type": "code",
   "execution_count": null,
   "id": "81b78b6b-efab-4ba5-b698-854e00264f6c",
   "metadata": {},
   "outputs": [],
   "source": [
    "#dt.where((dt.min()) | (dt>(dt.min() + np.timedelta64(24,'h'))))"
   ]
  },
  {
   "cell_type": "code",
   "execution_count": null,
   "id": "1539db98-24f9-41fe-8625-a39a6f0bbd80",
   "metadata": {},
   "outputs": [],
   "source": [
    "Results['BeachTime'].sel(nspills=0).attrs"
   ]
  },
  {
   "cell_type": "code",
   "execution_count": null,
   "id": "037316af-e9d4-45a9-bff0-7a92a676413d",
   "metadata": {},
   "outputs": [],
   "source": [
    "Results['BeachTime'].sel(nspills=0).where"
   ]
  },
  {
   "cell_type": "code",
   "execution_count": null,
   "id": "dde5fafa-c00f-4bec-a608-55bc6098ae90",
   "metadata": {},
   "outputs": [],
   "source": [
    "Results['SurfacePresence'] = np.zeros((nruns, ny, nx))\n",
    "Results['SurfaceTotalVolume'] = np.zeros((nruns,ny,nx))\n",
    "Results['SurfaceMaxVolume'] = np.zeros((nruns,ny,nx))\n",
    "#Results['BeachTime'] = xr.DataArray()\n",
    "Results['BeachVolume'] = np.zeros((nruns, ny, nx))\n",
    "Results['BeachPresence'] = np.zeros((nruns, ny, nx))\n",
    "#------------------------------------------------------------\n",
    "# \"oil\" will eventually be assigned in for-loop\n",
    "oil = 'akns'\n",
    "#------------------------------------------------------------\n",
    "# This will become 100 or more\n",
    "nruns = 2\n",
    "#------------------------------------------------------------\n",
    "# group number will be assigned by the N groups of files \n",
    "# created by dividing the total runs in each oil type by the \n",
    "# \"nruns\" processed here\n",
    "group = 1\n",
    "#------------------------------------------------------------\n",
    "# define output netcdf name\n",
    "aggregated_netcdf = netcdf_dir / f'{oil}_runset{group}.nc'\n",
    "#------------------------------------------------------------\n",
    "# loop through and aggregate nruns in oil type\n",
    "# this will need to be updated when loop through groups is \n",
    "# introduced\n",
    "for run in range(nruns):\n",
    "    input_file = fn[oil][run]\n",
    "    Results['Files'].append(input_file)\n",
    "    with xr.open_dataset(input_file) as ds:\n",
    "        data = ds.OilWaterColumnOilVol_3D.isel(slc).values\n",
    "        # create boolean array for surface presence of oil > threshold\n",
    "        Results['SurfacePresence'][run,:,:] = data[:, ...].max(axis=0) >= surface_threshold\n",
    "        # integrate surface volume for map of locations with greatest oiling exposure\n",
    "        Results['SurfaceTotalVolume'][run,:,:] = data[:, ...].sum(axis=0)\n",
    "        # maximum surface volume \n",
    "        Results['SurfaceMaxVolume'][run,:,:] = data[:, ...].max(axis=0)\n",
    "        # set values below volume threshold to zero\n",
    "        Results['SurfaceTotalVolume'][Results['SurfaceTotalVolume'] < surface_threshold] = 0\n",
    "        # beaching time, volume, and presence\n",
    "        Results['BeachTime'][run,:,:] = ds.Beaching_Time-ds.Beaching_Time.min()\n",
    "        Results['BeachVolume'][run,:,:] = ds.Beaching_Volume.values\n",
    "        Results['BeachPresence'][run,:,:] = ds.Beaching_Volume.values >= beach_threshold\n",
    "        # only keep beaching volume and time if volume above threshold\n",
    "        Results['BeachTime'].where(ds.Beaching_Volume < beach_threshold, drop=True)\n",
    "        Results['BeachVolume'][Results['BeachVolume'] < beach_threshold] = np.nan\n",
    "        # set beach time = 0 to really large value so that the min represents first beaching\n",
    "        Results['BeachVolume'][Results['BeachVolume']==0] = 1e6\n",
    "\n",
    "# Create Output dictionary that flattens results across all runs\n",
    "Output = {}\n",
    "# Presence/Absence\n",
    "Output['SurfacePresence'] = Results['SurfacePresence'].max(axis=0).astype(bool)\n",
    "Output['BeachPresence'] = Results['BeachPresence'].max(axis=0).astype(bool)\n",
    "# Volumes\n",
    "Output['SurfaceVolume_SumMax'] = Results['SurfaceTotalVolume'].max(axis=0)\n",
    "Output['SurfaceVolume_MaxSum'] = Results['SurfaceMaxVolume'].sum(axis=0)\n",
    "Output['BeachVolume_Max'] = Results['BeachVolume'].max(axis=0)\n",
    "# Time to beaching\n",
    "Output['BeachTime_Min'] = Results['BeachTime'].min(axis=0)\n",
    "# Counts for probability calc. later\n",
    "# - surface presence \n",
    "SurfacePresence_ones = np.array(Results['SurfacePresence']).astype(int)\n",
    "Output['SurfacePresence_SpillCount'] = SurfacePresence_ones.sum(axis=0)\n",
    "# - beaching \n",
    "BeachPresence_ones = np.array(Results['BeachPresence']).astype(int)\n",
    "Output['BeachPresence_SpillCount'] = BeachPresence_ones.sum(axis=0)\n"
   ]
  },
  {
   "cell_type": "code",
   "execution_count": null,
   "id": "7cc682af-a533-490e-91b8-f22e060dd410",
   "metadata": {},
   "outputs": [],
   "source": [
    "Results['BeachTime'] = ds.Beaching_Time-ds.Beaching_Time.min()"
   ]
  },
  {
   "cell_type": "code",
   "execution_count": null,
   "id": "90e8d0ec-73c6-40e5-8049-fc9619875ea5",
   "metadata": {},
   "outputs": [],
   "source": [
    "Results['BeachVolume'][run,:,:] = ds.Beaching_Volume.values\n",
    "Results['BeachPresence'][run,:,:] = ds.Beaching_Volume.values >= beach_threshold\n",
    "# only keep beaching volume and time if volume above threshold\n",
    "Results['BeachTime'].where(ds.Beaching_Volume < beach_threshold, drop=True)\n",
    "       "
   ]
  },
  {
   "cell_type": "code",
   "execution_count": null,
   "id": "78c7d3fb-b1ce-4f5d-a43e-113f7474c4ae",
   "metadata": {},
   "outputs": [],
   "source": [
    "# dims = ('example', 'x', 'y')\n",
    "# combined = xarray.Dataset(\n",
    "#     data_vars={'my_variable': (dims, np.zeros((len(examples), 100, 200)))},\n",
    "#     coords={'example': examples})\n",
    "# for example in examples:\n",
    "#     combined.loc[dict(example=example)] = create_an_xarray_dataset(example)"
   ]
  },
  {
   "cell_type": "code",
   "execution_count": null,
   "id": "a367da5e-b625-440d-83f9-bdc9cd6d5488",
   "metadata": {},
   "outputs": [],
   "source": [
    "np.nanmin(Results['BeachTime'])"
   ]
  },
  {
   "cell_type": "code",
   "execution_count": null,
   "id": "acf10148-999f-4b53-9e49-80783397dd5a",
   "metadata": {},
   "outputs": [],
   "source": [
    "test.where(ds.Beaching_Volume < beach_threshold, drop=True)"
   ]
  },
  {
   "cell_type": "code",
   "execution_count": null,
   "id": "f3bea791-4cc7-431b-9929-6ea2fb018b00",
   "metadata": {},
   "outputs": [],
   "source": [
    "Results['BeachTime'][run,:,:] = ds.Beaching_Time.values -ds.Beaching_Time.values.min()"
   ]
  },
  {
   "cell_type": "code",
   "execution_count": null,
   "id": "36404f08-561a-4297-ae0d-c0971fc8d41a",
   "metadata": {},
   "outputs": [],
   "source": [
    "Results['BeachTime'] = Results['BeachTime'].astype({'date': 'datetime64[ns]'})"
   ]
  },
  {
   "cell_type": "code",
   "execution_count": null,
   "id": "b0dbb134-1988-40a8-8bbe-b8f2d8085661",
   "metadata": {},
   "outputs": [],
   "source": [
    "# Create dictionary with header information to include in netcdf output\n",
    "Output['header'] = {\n",
    "    # booleans\n",
    "    \"SurfacePresence\": {\"dtype\": \"bool\"},\n",
    "    \"BeachPresence\": {\"dtype\": \"bool\"},\n",
    "    # volumes\n",
    "    \"SurfaceVolume_SumMax\": {\"dtype\":\"float64\"},\n",
    "    \"SurfaceVolume_MaxSum\": {\"dtype\":\"float64\"},\n",
    "    \"BeachVolume_Max\": {\"dtype\":\"float64\"},\n",
    "    # timing\n",
    "    \"BeachTime_Min\":\n",
    "    # spill counts\n",
    "    \"SurfacePresence_SpillCount\": {\"dtype\": \"int64\"},\n",
    "    \"BeachPresence_SpillCount\": {\"dtype\": \"int64\"},\n",
    "    \n",
    "}\n",
    "\n"
   ]
  },
  {
   "cell_type": "code",
   "execution_count": null,
   "id": "7aa995c2-c22f-4bc3-99f6-f296fc98b377",
   "metadata": {},
   "outputs": [],
   "source": [
    "processed_yaml = yaml_dir / f'MOHID_results_locations_07102021_15:52:22_processed_{oil}.yaml'\n",
    "with open(processed_yaml, 'w') as output_yaml:\n",
    "        documents = yaml.safe_dump(Results['Files'], output_yaml)"
   ]
  },
  {
   "cell_type": "code",
   "execution_count": null,
   "id": "0c232e60-f796-4ec2-8fc4-36a9561f7ee3",
   "metadata": {},
   "outputs": [],
   "source": [
    "# Write monte-carlo results to netcdf\n",
    "ds_out = xr.Dataset({\n",
    "        'SurfacePresence': (['y', 'x'], np.array(Output['SurfacePresence'])),\n",
    "        'BeachPresence': (['y', 'x'], np.array(Output['BeachPresence'])),\n",
    "        'SurfaceVolume_SumMax': (['y', 'x'], np.array(Output['SurfaceVolume_SumMax'])),\n",
    "        'SurfaceVolume_MaxSum': (['y', 'x'], np.array(Output['SurfaceVolume_MaxSum'])),\n",
    "        'BeachTime_Min': (['y', 'x'], np.array(Output['BeachTime_Min'])),\n",
    "        'BeachVolume_Max': (['y', 'x'], np.array(Output['BeachVolume_Max'])),\n",
    "        'SurfacePresence_SpillCount': (['y', 'x'], np.array(Output['SurfacePresence_SpillCount'])),\n",
    "        'BeachPresence_SpillCount': (['y', 'x'], np.array(Output['BeachPresence_SpillCount'])),\n",
    "        'Filenames': (['nruns'], Results['Files'])\n",
    "    },\n",
    "    coords={'Nspills': nruns, 'y': y, 'x': x},\n",
    ")"
   ]
  },
  {
   "cell_type": "code",
   "execution_count": null,
   "id": "b8929ac2-f2e9-448e-b960-fe2f304b18c2",
   "metadata": {},
   "outputs": [],
   "source": [
    "# Save output to netcdf\n",
    "ds_out.to_netcdf(aggregated_netcdf, engine='h5netcdf', encoding=Output['header'])"
   ]
  },
  {
   "cell_type": "code",
   "execution_count": null,
   "id": "702017dc-9cd2-4e85-87d7-ead0ba52ef38",
   "metadata": {},
   "outputs": [],
   "source": [
    "ds"
   ]
  },
  {
   "cell_type": "code",
   "execution_count": null,
   "id": "a495e729-1c72-4480-8905-6e888d0772b1",
   "metadata": {},
   "outputs": [],
   "source": [
    "test = xr.open_dataset(aggregated_netcdf)\n",
    "test"
   ]
  },
  {
   "cell_type": "markdown",
   "id": "aeb27624-930c-4f21-ae6b-6ee81c7c15b0",
   "metadata": {},
   "source": [
    "## Filenamesk plot of results "
   ]
  },
  {
   "cell_type": "code",
   "execution_count": null,
   "id": "9fd9c159-82d5-42b0-9231-033c978f9a77",
   "metadata": {},
   "outputs": [],
   "source": [
    "Output['SurfaceMaxTotalVolume'].shape"
   ]
  },
  {
   "cell_type": "code",
   "execution_count": null,
   "id": "eb776b2c-09b8-4905-9a5d-711299666e4a",
   "metadata": {},
   "outputs": [],
   "source": [
    "# Plot results\n",
    "Output['SurfaceMaxTotalVolume'][Output['SurfaceMaxTotalVolume']< 1e-5]=1e-5\n",
    "fig, axs = plt.subplots(1, 3, figsize=(12, 16), gridspec_kw={'wspace': 0.1, 'hspace': 0.1})\n",
    "axs[0].contourf(Output['SurfacePresence'])\n",
    "axs[1].contourf(Output['SurfacePresenceCount'])\n",
    "axs[2].contourf(np.log(Output['SurfaceMaxTotalVolume']))\n",
    "axs[0].set_title('Surface Presence')\n",
    "axs[1].set_title('Number of runs \\n with presence')\n",
    "axs[2].set_title('Log(Max. of integrated volume\\n across runs)')"
   ]
  },
  {
   "cell_type": "markdown",
   "id": "da16b0f8-8c81-46ca-b9a9-ba443f22f7f8",
   "metadata": {},
   "source": [
    "---\n",
    "## Older dev code below\n",
    "---"
   ]
  },
  {
   "cell_type": "code",
   "execution_count": null,
   "id": "dd58a9da-9f48-4884-bccd-fc75fd5f3d65",
   "metadata": {},
   "outputs": [],
   "source": [
    "with xr.open_dataset(input_file) as ds:\n",
    "    data = ds.OilWaterColumnOilVol_3D.isel(slc).values"
   ]
  },
  {
   "cell_type": "markdown",
   "id": "0ac1ac14-fc5c-45db-b5e4-164257d3a010",
   "metadata": {},
   "source": [
    "### Data is now the surface level with time-, y-, and x-dimensions"
   ]
  },
  {
   "cell_type": "code",
   "execution_count": null,
   "id": "61fe23ce-5c78-4bc5-9c34-e692d732cc1c",
   "metadata": {},
   "outputs": [],
   "source": [
    "data[:, ...].max(axis=0).shape"
   ]
  },
  {
   "cell_type": "markdown",
   "id": "9cfe88d1-cd08-48e5-8f92-c0d5d63873df",
   "metadata": {
    "tags": []
   },
   "source": [
    "### Create presence map based on where volume > 3L"
   ]
  },
  {
   "cell_type": "code",
   "execution_count": null,
   "id": "42b401c4-cd28-4343-b4e6-127893102f73",
   "metadata": {},
   "outputs": [],
   "source": [
    "# create threshold in m3\n",
    "threshold = 3 * 1e-3\n",
    "presence = data[:, ...].max(axis=0) > threshold"
   ]
  },
  {
   "cell_type": "code",
   "execution_count": null,
   "id": "fd689f49-c22f-4dfb-bed0-c548bb948fd9",
   "metadata": {},
   "outputs": [],
   "source": [
    "presence.shape"
   ]
  },
  {
   "cell_type": "code",
   "execution_count": null,
   "id": "388b7966-5c9c-4668-8614-88e3d1b0d58f",
   "metadata": {},
   "outputs": [],
   "source": [
    "presence.min()"
   ]
  },
  {
   "cell_type": "code",
   "execution_count": null,
   "id": "b844f1cf-e05d-4212-b6a7-0e42680962ae",
   "metadata": {},
   "outputs": [],
   "source": [
    "presence.max()"
   ]
  },
  {
   "cell_type": "code",
   "execution_count": null,
   "id": "5c9f8392-4dbc-4da8-b198-ddbcb560bc9c",
   "metadata": {},
   "outputs": [],
   "source": [
    "presence.dtype"
   ]
  },
  {
   "cell_type": "code",
   "execution_count": null,
   "id": "cc523e71-6626-49f8-9584-e811a1d2f29b",
   "metadata": {},
   "outputs": [],
   "source": [
    "fig = plt.figure()\n",
    "ax1 = fig.add_subplot(121)\n",
    "ax1.imshow(presence, \n",
    "          aspect='auto', \n",
    "          cmap=plt.cm.gray, \n",
    "          interpolation='nearest')\n",
    "ax1.set_title('Presence > 3L')\n",
    "ax2 = fig.add_subplot(122)\n",
    "ax2.imshow(data[:, ...].max(axis=0) > 0, \n",
    "          aspect='auto', \n",
    "          cmap=plt.cm.gray, \n",
    "          interpolation='nearest')\n",
    "ax2.set_title('Presence > 0L')"
   ]
  },
  {
   "cell_type": "markdown",
   "id": "45823154-965a-42cc-94d6-e94670b96244",
   "metadata": {},
   "source": [
    "### Integrated surface volume > 3L"
   ]
  },
  {
   "cell_type": "code",
   "execution_count": null,
   "id": "486143eb-5a08-42bf-afb2-595deb39c3f8",
   "metadata": {},
   "outputs": [],
   "source": [
    "nt,ny,nx = data.shape\n",
    "Results = {}\n",
    "Results['SurfaceIntVol'] = np.zeros((ny,nx))\n",
    "Results['SurfaceIntVol'] = data[:, ...].sum(axis=0)\n",
    "Results['SurfaceIntVol'].shape"
   ]
  },
  {
   "cell_type": "code",
   "execution_count": null,
   "id": "fde56ac4-a7a2-4d13-9c25-49c6aa8c6864",
   "metadata": {},
   "outputs": [],
   "source": [
    "# set values below 3L threshold to zero\n",
    "Results['SurfaceIntVol'][Results['SurfaceIntVol'] < threshold] = 0"
   ]
  },
  {
   "cell_type": "code",
   "execution_count": null,
   "id": "ddaead50-4b2f-4fc8-9741-5ff720c9b88b",
   "metadata": {},
   "outputs": [],
   "source": [
    "# print values for reference\n",
    "print(Results['SurfaceIntVol'].min(), ',', Results['SurfaceIntVol'].max(),',',Results['SurfaceIntVol'].std())"
   ]
  },
  {
   "cell_type": "code",
   "execution_count": null,
   "id": "6609d6ce-cc6b-406a-9c4f-fd8c29eef63b",
   "metadata": {},
   "outputs": [],
   "source": [
    "fig = plt.figure()\n",
    "ax1 = fig.add_subplot(121)\n",
    "ax1.imshow(Results['SurfaceIntVol'], \n",
    "          aspect='auto', \n",
    "          cmap=plt.cm.summer, \n",
    "          interpolation='nearest')\n",
    "ax1.set_title('Total Volume > 3L')\n",
    "ax2 = fig.add_subplot(122)\n",
    "ax2.imshow(data[:, ...].sum(axis=0), \n",
    "          aspect='auto', \n",
    "          cmap=plt.cm.summer, \n",
    "          interpolation='nearest')\n",
    "ax2.set_title('Total Volume > 0L')"
   ]
  },
  {
   "cell_type": "markdown",
   "id": "666ae9b1-78c7-4c65-bd4b-2c85e938e6eb",
   "metadata": {},
   "source": [
    "### sort values by oil type for multiple runs"
   ]
  },
  {
   "cell_type": "code",
   "execution_count": null,
   "id": "430008c3-1833-426d-b172-9f3a015128cc",
   "metadata": {},
   "outputs": [],
   "source": [
    "# test arrays\n",
    "a1 = np.array([[1, 2],[3, 4]])\n",
    "b1 = np.array([[4, 3],[2, 1]])\n",
    "max_ab = np.maximum(a1,b1)"
   ]
  },
  {
   "cell_type": "code",
   "execution_count": null,
   "id": "2e09b415-7e1e-45a0-adc8-3e832b0ea57d",
   "metadata": {},
   "outputs": [],
   "source": [
    "max_ab"
   ]
  },
  {
   "cell_type": "code",
   "execution_count": null,
   "id": "578ddcc0-d4a8-4241-a6f1-304bbf2bcb10",
   "metadata": {},
   "outputs": [],
   "source": [
    "sum_ab = a1+b1"
   ]
  },
  {
   "cell_type": "code",
   "execution_count": null,
   "id": "250b1a88-6dd4-4357-803f-1348bc76a48a",
   "metadata": {},
   "outputs": [],
   "source": [
    "sum_ab"
   ]
  },
  {
   "cell_type": "markdown",
   "id": "2ffb2adc-36c2-4ebe-9ded-bea5985fb0a3",
   "metadata": {},
   "source": [
    "### now fabricate scenario of combining values from multiple runs within oil types"
   ]
  },
  {
   "cell_type": "code",
   "execution_count": null,
   "id": "1de03d1d-c7d9-4d0b-b004-682ad6af0f30",
   "metadata": {},
   "outputs": [],
   "source": [
    "# create dictionary to map oil-type to index number\n",
    "oil_index = {'diesel':0,\n",
    "            'ans':1,\n",
    "            'bunker':2,\n",
    "            'dilbit':3,\n",
    "            'all':4\n",
    "            }"
   ]
  },
  {
   "cell_type": "code",
   "execution_count": null,
   "id": "b73c9a7b-cb7c-4a4c-b2e8-67515b22f3b1",
   "metadata": {},
   "outputs": [],
   "source": [
    "oil_index['ans']"
   ]
  },
  {
   "cell_type": "code",
   "execution_count": null,
   "id": "d795a65e-7db1-4a23-b0ca-a6ea312f02b9",
   "metadata": {},
   "outputs": [],
   "source": [
    "# pre-define file and oil-type to one case\n",
    "input_dir = '/scratch/dlatorne/MIDOSS/runs/monte-carlo/near-BP_20th-100_2021-09-30T145454/results/near-BP_20th-100-65'\n",
    "input_file = input_dir + '/Lagrangian_diesel-65_near-BP_20th-100-65.nc'\n",
    "oiltype = glob(f'{input_dir}/Lagrangian*')[0].split('/')[-1].split('_')[1].split('-')[0]\n",
    "nruns=2\n",
    "Results = {}\n",
    "Results['SurfaceIntVol'] = np.zeros((nruns,ny,nx))\n",
    "Results['OilType'] = []\n",
    "\n",
    "for run in range(nruns):\n",
    "    print(run)\n",
    "    with xr.open_dataset(input_file) as ds:\n",
    "        data = ds.OilWaterColumnOilVol_3D.isel(slc).values\n",
    "        Results['OilType'].append(oiltype)\n",
    "        Results['SurfaceIntVol'][run,:,:]=data[:, ...].sum(axis=0)\n"
   ]
  },
  {
   "cell_type": "code",
   "execution_count": null,
   "id": "c5328817-137f-4e97-92f3-ad91efaf6894",
   "metadata": {},
   "outputs": [],
   "source": [
    "Results['SurfaceIntVol'].shape"
   ]
  },
  {
   "cell_type": "code",
   "execution_count": null,
   "id": "18662623-9482-4c5d-b1ee-107a8fcf354f",
   "metadata": {},
   "outputs": [],
   "source": [
    "diesel_index = ['diesel' in oil for oil in Results['OilType']]"
   ]
  },
  {
   "cell_type": "code",
   "execution_count": null,
   "id": "a87c83ca-f5f0-447e-bf5b-731873791ed1",
   "metadata": {},
   "outputs": [],
   "source": [
    "diesel_index"
   ]
  },
  {
   "cell_type": "code",
   "execution_count": null,
   "id": "3569719d-2281-4d2b-94fd-853ccfd12185",
   "metadata": {},
   "outputs": [],
   "source": [
    "# Sum results over all diesel cases\n",
    "Results['SurfaceIntVol'][diesel_index,:,:].sum(axis=0)"
   ]
  },
  {
   "cell_type": "code",
   "execution_count": null,
   "id": "21eedef8-b6dd-4348-ab56-3c231159584b",
   "metadata": {},
   "outputs": [],
   "source": [
    "# for the case of all values\n",
    "Results['SurfaceIntVol'].sum(axis=0).shape"
   ]
  },
  {
   "cell_type": "markdown",
   "id": "6ff2fd3e-680a-4d3f-b3d6-d76ccab30067",
   "metadata": {},
   "source": [
    "### Now test over mixed oil types"
   ]
  },
  {
   "cell_type": "code",
   "execution_count": null,
   "id": "e36aae0e-a398-45b0-9f29-7f40186aecd9",
   "metadata": {},
   "outputs": [],
   "source": [
    "nruns"
   ]
  },
  {
   "cell_type": "code",
   "execution_count": null,
   "id": "b9a5d5f8-5338-4088-9e50-43ecea0456e2",
   "metadata": {},
   "outputs": [],
   "source": [
    "%%time\n",
    "oil_types = ['all','diesel','ans','bunker','dilbit']\n",
    "\n",
    "# Define runset lists\n",
    "runsets = [\n",
    "    'near-BP_1st-30',\n",
    "    'near-BP_3rd-200',\n",
    "    'near-BP_4th-100',\n",
    "    'near-BP_5th-100',\n",
    "]\n",
    "\n",
    "timestamps = [\n",
    "    '2021-09-20T144849',\n",
    "    '2021-09-23T140522',\n",
    "    '2021-09-24T125848',\n",
    "    '2021-09-25T154734',\n",
    "]\n",
    "\n",
    "nruns = [30, 500, 200, 100, 100]\n",
    "\n",
    "ss = 3 # run selection\n",
    "runset, timestamp, n = runsets[ss], timestamps[ss], nruns[ss]\n",
    "\n",
    "# Collect individual runs across all run sets\n",
    "Results = {'RunId': [], 'Date': [], 'OilType': [],'Path': [],\n",
    "       'SurfaceMaxVol': np.zeros((len(oil_types),n,ny,nx)),\n",
    "       'SurfaceIntVol': np.zeros((len(oil_types),n,ny,nx)),\n",
    "       'Beaching_Time': np.zeros((len(oil_types),n,ny,nx)),\n",
    "       'Beaching_Volume': np.zeros((len(oil_types),n,ny,nx))\n",
    "}\n",
    "incomplete_runs = []"
   ]
  },
  {
   "cell_type": "code",
   "execution_count": null,
   "id": "adf7daa5-423d-401e-9f09-c261c25fa214",
   "metadata": {},
   "outputs": [],
   "source": [
    "# Define output file names\n",
    "output_nc = netcdf_dir / f'MIDOSS_aggregated_{runset}-{timestamp}_{np.sum(nruns)}.nc'\n",
    "output_readme = netcdf_dir / f'MIDOSS_aggregated_{runset}-{timestamp}_{np.sum(nruns)}.csv'\n",
    "for run in range(min(50,n)):\n",
    "    # Construct path and load into Xarray Dataset\n",
    "    runpath = f'{results_dir}/{runset}_{timestamp}/results/{runset}-{run}'\n",
    "    if os.path.isdir(runpath):\n",
    "        oiltype = glob(f'{runpath}/Lagrangian*')[0].split('/')[-1].split('_')[1].split('-')[0]\n",
    "        fn = f'{runpath}/Lagrangian_{oiltype}-{run}_{runset}-{run}.nc'\n",
    "        print(f'Lagrangian_{oiltype}-{run}_{runset}-{run}.nc')\n",
    "\n",
    "        # store path in list to write for readme file accompanament to .netcdf\n",
    "        Results['Path'].append(fn)\n",
    "        \n",
    "        # with xr.open_dataset(fn) as ds:   \n",
    "        #     data = ds.OilWaterColumnOilVol_3D.isel(slc).values  # result dims: time, y-dim, x-dim.  Where is depth?\n",
    "        #     # Append results to lists\n",
    "        #     Results['Date'].append(ds.time[0].values.astype('datetime64[s]').astype(datetime))\n",
    "        #     Results['OilType'].append(oiltype)\n",
    "        #     Results['SurfaceMaxVol'].append(data[:, ...].max(axis=0))\n",
    "        #     Results['SurfaceIntVol'].append(data[:, ...].sum(axis=0))\n",
    "        #     # Susan's version used slc here, where I have to use slc2D.  Perhaps b/c of using h5netcdf?\n",
    "        #     Results['Beaching_Time'].append(ds.Beaching_Time.values -ds.Beaching_Time.values.min())\n",
    "        #     Results['Beaching_Volume'].append(ds.Beaching_Volume.values)\n",
    "        #     ds.close()\n",
    "    else:\n",
    "        incomplete_runs.append(f'{runset}-{run}')\n",
    "\n",
    "# Write list of missing runs to file, if they exist for this run grouping\n",
    "if(incomplete_runs):\n",
    "    textfile = open(output_dir / f'{runset}_incomplete_runs.csv', \"w\")\n",
    "    for element in incomplete_runs:\n",
    "        textfile.write(element + \"\\n\")\n",
    "    textfile.close()\n",
    "\n"
   ]
  },
  {
   "cell_type": "code",
   "execution_count": null,
   "id": "88af31f1-826d-4587-8a00-108ee7c0b70f",
   "metadata": {},
   "outputs": [],
   "source": [
    "# Write monte-carlo results to netcdf\n",
    "ds = xr.Dataset({\n",
    "        'OilWaterColumnOilVol_SurfaceMaxVol': (['RunId', 'y', 'x'], np.array(Results['SurfaceMaxVol'])),\n",
    "        'OilWaterColumnOilVol_SurfaceIntVol': (['RunId', 'y', 'x'], np.array(Results['SurfaceIntVol'])),\n",
    "        'Beaching_Time': (['RunId', 'y', 'x'], np.array(Results['Beaching_Time'])),\n",
    "        'Beaching_Volume': (['RunId', 'y', 'x'], np.array(Results['Beaching_Volume'])),\n",
    "        'OilType': ('RunId', np.array(Results['OilType'])),\n",
    "    },\n",
    "    coords={'RunId': np.array(Results['RunId']), 'z': z, 'y': y, 'x': x},\n",
    ")\n",
    "# Save output to netcdf\n",
    "ds.to_netcdf(output_nc, engine='h5netcdf')\n",
    "# Save output file paths to .csv as a supplementary reference doc\n",
    "path_df = pd.DataFrame(Results['Path'])\n",
    "path_df.to_csv(output_readme, index=False, header=False)"
   ]
  }
 ],
 "metadata": {
  "kernelspec": {
   "display_name": "Python 3 (ipykernel)",
   "language": "python",
   "name": "python3"
  },
  "language_info": {
   "codemirror_mode": {
    "name": "ipython",
    "version": 3
   },
   "file_extension": ".py",
   "mimetype": "text/x-python",
   "name": "python",
   "nbconvert_exporter": "python",
   "pygments_lexer": "ipython3",
   "version": "3.8.2"
  }
 },
 "nbformat": 4,
 "nbformat_minor": 5
}
